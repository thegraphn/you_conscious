{
 "cells": [
  {
   "cell_type": "code",
   "execution_count": 4,
   "metadata": {},
   "outputs": [],
   "source": [
    "import pandas as pd\n",
    "from collections import Counter"
   ]
  },
  {
   "cell_type": "code",
   "execution_count": 5,
   "metadata": {},
   "outputs": [],
   "source": [
    "df_merged = pd.read_csv(\"/home/graphn/repositories/you_conscious/data_processing/data_working_directory/merged/merged_datafeeds.csv\",sep=\"\\t\",low_memory=False)\n"
   ]
  },
  {
   "cell_type": "code",
   "execution_count": 9,
   "metadata": {},
   "outputs": [],
   "source": [
    "df_filtered = pd.read_csv(\"/home/graphn/repositories/you_conscious/data_processing/data_working_directory/filtered/filtered_datafeed.csv\",sep=\"\\t\",low_memory=False)\n",
    "df_labeld = pd.read_csv(\"/home/graphn/repositories/you_conscious/data_processing/data_working_directory/filtered/labeled_data_feed.csv\",sep=\"\\t\",low_memory=False)"
   ]
  },
  {
   "cell_type": "code",
   "execution_count": 10,
   "metadata": {},
   "outputs": [
    {
     "name": "stdout",
     "output_type": "stream",
     "text": [
      "Counter({'mirapodo DE': 948401, 'Asos.com DE': 716033, 'OTTO DE': 336138, 'Avocadostore DE': 334046, 'Im walking DE': 113636, 'HUMANIC AT': 58691, 'Benetton DE': 28956, 'HALLHUBER DE': 11733, 'Hessnatur DE': 11488, 'Vero Moda DE': 6445, 'LOVECO - Fair & Vegan Fashion and Shoes': 5671, 'Guess DE': 3962, 'muso koroni': 3080, nan: 2866, 'ETHLETIC': 2344, 'recolution': 1295, 'SORBAS': 1014, 'promod DE': 963, 'JW PEI DE': 274})\n"
     ]
    }
   ],
   "source": [
    "merged_merchant = df_merged[\"merchant_name\"].tolist()\n",
    "print(Counter(merged_merchant))"
   ]
  },
  {
   "cell_type": "code",
   "execution_count": 7,
   "metadata": {},
   "outputs": [
    {
     "name": "stdout",
     "output_type": "stream",
     "text": [
      "Counter({'asos': 334332, 'Im walking DE': 30072, 'HUMANIC AT': 19310, 'OTTO DE': 11278, 'VERO MODA': 5871, 'muso koroni': 3079, 'ETHLETIC': 2344, 'United Colors of Benetton': 137, 'OTTO': 1})\n"
     ]
    }
   ],
   "source": [
    "filtered_merchant = df_filtered[\"merchant_name\"].tolist()\n",
    "print(Counter(filtered_merchant))"
   ]
  },
  {
   "cell_type": "code",
   "execution_count": 12,
   "metadata": {},
   "outputs": [
    {
     "name": "stdout",
     "output_type": "stream",
     "text": [
      "Counter({'asos': 18265, 'Im walking DE': 3358, 'muso koroni': 3079, 'ETHLETIC': 2344, 'VERO MODA': 1285, 'OTTO DE': 728, 'HUMANIC AT': 709})\n"
     ]
    }
   ],
   "source": [
    "labeled_merchant = df_labeld[\"merchant_name\"].tolist()\n",
    "print(Counter(labeled_merchant))"
   ]
  },
  {
   "cell_type": "code",
   "execution_count": null,
   "metadata": {},
   "outputs": [],
   "source": []
  }
 ],
 "metadata": {
  "kernelspec": {
   "display_name": "Python 3",
   "language": "python",
   "name": "python3"
  },
  "language_info": {
   "codemirror_mode": {
    "name": "ipython",
    "version": 3
   },
   "file_extension": ".py",
   "mimetype": "text/x-python",
   "name": "python",
   "nbconvert_exporter": "python",
   "pygments_lexer": "ipython3",
   "version": "3.8.5"
  }
 },
 "nbformat": 4,
 "nbformat_minor": 4
}
