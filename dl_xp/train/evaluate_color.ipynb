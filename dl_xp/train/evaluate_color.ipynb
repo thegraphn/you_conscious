{
 "cells": [
  {
   "cell_type": "code",
   "execution_count": 3,
   "metadata": {},
   "outputs": [],
   "source": [
    "from farm.utils import initialize_device_settings\n",
    "from farm.modeling.tokenization import Tokenizer\n",
    "from farm.data_handler.processor import TextClassificationProcessor, SquadProcessor\n",
    "from farm.data_handler.data_silo import DataSilo\n",
    "from farm.eval import Evaluator\n",
    "from farm.modeling.adaptive_model import AdaptiveModel\n",
    "from pathlib import Path\n",
    "from farm.infer import Inferencer\n",
    "\n"
   ]
  },
  {
   "cell_type": "code",
   "execution_count": 4,
   "metadata": {},
   "outputs": [],
   "source": [
    "import pandas as pd\n",
    "df = pd.read_csv(\"/home/graphn/repositories/you_conscious/dl_xp/data/colour/train_color.tsv\",sep=\"\\t\")\n",
    "label_list_1 = df[\"label\"].tolist()\n",
    "label_list_1 = list(set(label_list_1))\n",
    "df = pd.read_csv(\"/home/graphn/repositories/you_conscious/dl_xp/data/colour/test_color.tsv\",sep=\"\\t\")\n",
    "label_list_2 = df[\"label\"].tolist()\n",
    "label_list_2 = list(set(label_list_2))\n",
    "label_list = label_list_1 + label_list_2 + [\"\"]\n",
    "label_list = list(set(label_list_1+label_list_2)) \n",
    "texts = df[\"text\"].tolist()\n",
    "y_true  = df[\"label\"].tolist()"
   ]
  },
  {
   "cell_type": "code",
   "execution_count": null,
   "metadata": {
    "scrolled": true
   },
   "outputs": [],
   "source": []
  },
  {
   "cell_type": "code",
   "execution_count": 5,
   "metadata": {},
   "outputs": [],
   "source": [
    "batch_size = 40\n",
    "\n",
    "\n"
   ]
  },
  {
   "cell_type": "code",
   "execution_count": 6,
   "metadata": {
    "jupyter": {
     "outputs_hidden": true
    }
   },
   "outputs": [
    {
     "name": "stderr",
     "output_type": "stream",
     "text": [
      "04/16/2021 17:51:26 - INFO - farm.utils -   Using device: CUDA \n",
      "04/16/2021 17:51:26 - INFO - farm.utils -   Number of GPUs: 1\n",
      "04/16/2021 17:51:26 - INFO - farm.utils -   Distributed Training: False\n",
      "04/16/2021 17:51:26 - INFO - farm.utils -   Automatic Mixed Precision: None\n",
      "04/16/2021 17:51:26 - INFO - farm.modeling.language_model -   \n",
      "04/16/2021 17:51:26 - INFO - farm.modeling.language_model -   LOADING MODEL\n",
      "04/16/2021 17:51:26 - INFO - farm.modeling.language_model -   =============\n",
      "04/16/2021 17:51:26 - INFO - farm.modeling.language_model -   Model found locally at /home/graphn/repositories/you_conscious/dl_xp/trained_models/color_distil\n"
     ]
    },
    {
     "name": "stdout",
     "output_type": "stream",
     "text": [
      "853\n"
     ]
    },
    {
     "name": "stderr",
     "output_type": "stream",
     "text": [
      "04/16/2021 17:51:27 - INFO - farm.modeling.language_model -   Loaded /home/graphn/repositories/you_conscious/dl_xp/trained_models/color_distil\n",
      "04/16/2021 17:51:27 - INFO - farm.modeling.adaptive_model -   Found files for loading 1 prediction heads\n",
      "04/16/2021 17:51:27 - WARNING - farm.modeling.prediction_head -   `layer_dims` will be deprecated in future releases\n",
      "04/16/2021 17:51:27 - INFO - farm.modeling.prediction_head -   Prediction head initialized with size [768, 25]\n",
      "04/16/2021 17:51:27 - INFO - farm.modeling.prediction_head -   Loading prediction head from /home/graphn/repositories/you_conscious/dl_xp/trained_models/color_distil/prediction_head_0.bin\n",
      "04/16/2021 17:51:29 - INFO - farm.modeling.tokenization -   Loading tokenizer of type 'DistilBertTokenizerFast'\n",
      "04/16/2021 17:51:29 - INFO - farm.data_handler.processor -   Initialized processor without tasks. Supply `metric` and `label_list` to the constructor for using the default task or add a custom task later via processor.add_task()\n",
      "04/16/2021 17:51:29 - WARNING - farm.utils -   ML Logging is turned off. No parameters, metrics or artifacts will be logged to MLFlow.\n",
      "04/16/2021 17:51:29 - INFO - farm.utils -   Using device: CUDA \n",
      "04/16/2021 17:51:29 - INFO - farm.utils -   Number of GPUs: 1\n",
      "04/16/2021 17:51:29 - INFO - farm.utils -   Distributed Training: False\n",
      "04/16/2021 17:51:29 - INFO - farm.utils -   Automatic Mixed Precision: None\n",
      "04/16/2021 17:51:29 - INFO - farm.infer -   Got ya 15 parallel workers to do inference ...\n",
      "04/16/2021 17:51:29 - INFO - farm.infer -    0    0    0    0    0    0    0    0    0    0    0    0    0    0    0 \n",
      "04/16/2021 17:51:29 - INFO - farm.infer -   /w\\  /w\\  /w\\  /w\\  /w\\  /w\\  /w\\  /|\\  /w\\  /w\\  /w\\  /w\\  /w\\  /w\\  /|\\\n",
      "04/16/2021 17:51:29 - INFO - farm.infer -   /'\\  / \\  /'\\  /'\\  / \\  / \\  /'\\  /'\\  /'\\  /'\\  /'\\  /'\\  / \\  /'\\  /'\\\n",
      "04/16/2021 17:51:29 - INFO - farm.infer -                               \n",
      "04/16/2021 17:51:29 - WARNING - farm.data_handler.processor -   Currently no support in Processor for returning problematic ids\n",
      "04/16/2021 17:51:29 - INFO - farm.data_handler.processor -   *** Show 1 random examples ***\n",
      "04/16/2021 17:51:29 - INFO - farm.data_handler.processor -   \n",
      "\n",
      "      .--.        _____                       _      \n",
      "    .'_\\/_'.     / ____|                     | |     \n",
      "    '. /\\ .'    | (___   __ _ _ __ ___  _ __ | | ___ \n",
      "      \"||\"       \\___ \\ / _` | '_ ` _ \\| '_ \\| |/ _ \\ \n",
      "       || /\\     ____) | (_| | | | | | | |_) | |  __/\n",
      "    /\\ ||//\\)   |_____/ \\__,_|_| |_| |_| .__/|_|\\___|\n",
      "   (/\\||/                             |_|           \n",
      "______\\||/___________________________________________                     \n",
      "\n",
      "ID: None\n",
      "Clear Text: \n",
      " \ttext: dark/petrol\n",
      "Tokenized: \n",
      " \tNone\n",
      "Features: \n",
      " \tinput_ids: [102, 555, 30900, 1061, 10602, 16013, 103, 0, 0, 0, 0, 0, 0, 0, 0, 0, 0, 0, 0, 0, 0, 0, 0, 0, 0, 0, 0, 0, 0, 0, 0, 0, 0, 0, 0, 0, 0, 0, 0, 0, 0, 0, 0, 0, 0, 0, 0, 0, 0, 0, 0, 0, 0, 0, 0, 0, 0, 0, 0, 0, 0, 0, 0, 0, 0, 0, 0, 0, 0, 0, 0, 0, 0, 0, 0, 0, 0, 0, 0, 0, 0, 0, 0, 0, 0, 0, 0, 0, 0, 0, 0, 0, 0, 0, 0, 0, 0, 0, 0, 0, 0, 0, 0, 0, 0, 0, 0, 0, 0, 0, 0, 0, 0, 0, 0, 0, 0, 0, 0, 0, 0, 0, 0, 0, 0, 0, 0, 0, 0, 0, 0, 0, 0, 0, 0, 0, 0, 0, 0, 0, 0, 0, 0, 0, 0, 0, 0, 0, 0, 0, 0, 0, 0, 0, 0, 0, 0, 0, 0, 0, 0, 0, 0, 0, 0, 0, 0, 0, 0, 0, 0, 0, 0, 0, 0, 0, 0, 0, 0, 0, 0, 0, 0, 0, 0, 0, 0, 0, 0, 0, 0, 0, 0, 0, 0, 0, 0, 0, 0, 0, 0, 0, 0, 0, 0, 0, 0, 0, 0, 0, 0, 0, 0, 0, 0, 0, 0, 0, 0, 0, 0, 0, 0, 0, 0, 0, 0, 0, 0, 0, 0, 0, 0, 0, 0, 0, 0, 0, 0, 0, 0, 0, 0, 0, 0, 0, 0, 0, 0, 0, 0, 0, 0, 0, 0, 0]\n",
      " \tpadding_mask: [1, 1, 1, 1, 1, 1, 1, 0, 0, 0, 0, 0, 0, 0, 0, 0, 0, 0, 0, 0, 0, 0, 0, 0, 0, 0, 0, 0, 0, 0, 0, 0, 0, 0, 0, 0, 0, 0, 0, 0, 0, 0, 0, 0, 0, 0, 0, 0, 0, 0, 0, 0, 0, 0, 0, 0, 0, 0, 0, 0, 0, 0, 0, 0, 0, 0, 0, 0, 0, 0, 0, 0, 0, 0, 0, 0, 0, 0, 0, 0, 0, 0, 0, 0, 0, 0, 0, 0, 0, 0, 0, 0, 0, 0, 0, 0, 0, 0, 0, 0, 0, 0, 0, 0, 0, 0, 0, 0, 0, 0, 0, 0, 0, 0, 0, 0, 0, 0, 0, 0, 0, 0, 0, 0, 0, 0, 0, 0, 0, 0, 0, 0, 0, 0, 0, 0, 0, 0, 0, 0, 0, 0, 0, 0, 0, 0, 0, 0, 0, 0, 0, 0, 0, 0, 0, 0, 0, 0, 0, 0, 0, 0, 0, 0, 0, 0, 0, 0, 0, 0, 0, 0, 0, 0, 0, 0, 0, 0, 0, 0, 0, 0, 0, 0, 0, 0, 0, 0, 0, 0, 0, 0, 0, 0, 0, 0, 0, 0, 0, 0, 0, 0, 0, 0, 0, 0, 0, 0, 0, 0, 0, 0, 0, 0, 0, 0, 0, 0, 0, 0, 0, 0, 0, 0, 0, 0, 0, 0, 0, 0, 0, 0, 0, 0, 0, 0, 0, 0, 0, 0, 0, 0, 0, 0, 0, 0, 0, 0, 0, 0, 0, 0, 0, 0, 0, 0]\n",
      " \tsegment_ids: [0, 0, 0, 0, 0, 0, 0, 0, 0, 0, 0, 0, 0, 0, 0, 0, 0, 0, 0, 0, 0, 0, 0, 0, 0, 0, 0, 0, 0, 0, 0, 0, 0, 0, 0, 0, 0, 0, 0, 0, 0, 0, 0, 0, 0, 0, 0, 0, 0, 0, 0, 0, 0, 0, 0, 0, 0, 0, 0, 0, 0, 0, 0, 0, 0, 0, 0, 0, 0, 0, 0, 0, 0, 0, 0, 0, 0, 0, 0, 0, 0, 0, 0, 0, 0, 0, 0, 0, 0, 0, 0, 0, 0, 0, 0, 0, 0, 0, 0, 0, 0, 0, 0, 0, 0, 0, 0, 0, 0, 0, 0, 0, 0, 0, 0, 0, 0, 0, 0, 0, 0, 0, 0, 0, 0, 0, 0, 0, 0, 0, 0, 0, 0, 0, 0, 0, 0, 0, 0, 0, 0, 0, 0, 0, 0, 0, 0, 0, 0, 0, 0, 0, 0, 0, 0, 0, 0, 0, 0, 0, 0, 0, 0, 0, 0, 0, 0, 0, 0, 0, 0, 0, 0, 0, 0, 0, 0, 0, 0, 0, 0, 0, 0, 0, 0, 0, 0, 0, 0, 0, 0, 0, 0, 0, 0, 0, 0, 0, 0, 0, 0, 0, 0, 0, 0, 0, 0, 0, 0, 0, 0, 0, 0, 0, 0, 0, 0, 0, 0, 0, 0, 0, 0, 0, 0, 0, 0, 0, 0, 0, 0, 0, 0, 0, 0, 0, 0, 0, 0, 0, 0, 0, 0, 0, 0, 0, 0, 0, 0, 0, 0, 0, 0, 0, 0, 0]\n",
      "_____________________________________________________\n",
      "04/16/2021 17:51:29 - WARNING - farm.data_handler.processor -   Currently no support in Processor for returning problematic ids\n",
      "04/16/2021 17:51:29 - WARNING - farm.data_handler.processor -   Currently no support in Processor for returning problematic ids\n",
      "04/16/2021 17:51:29 - WARNING - farm.data_handler.processor -   Currently no support in Processor for returning problematic ids\n",
      "04/16/2021 17:51:29 - WARNING - farm.data_handler.processor -   Currently no support in Processor for returning problematic ids\n",
      "04/16/2021 17:51:29 - WARNING - farm.data_handler.processor -   Currently no support in Processor for returning problematic ids\n",
      "04/16/2021 17:51:29 - WARNING - farm.data_handler.processor -   Currently no support in Processor for returning problematic ids\n",
      "04/16/2021 17:51:29 - WARNING - farm.data_handler.processor -   Currently no support in Processor for returning problematic ids\n",
      "04/16/2021 17:51:29 - WARNING - farm.data_handler.processor -   Currently no support in Processor for returning problematic ids\n",
      "04/16/2021 17:51:29 - WARNING - farm.data_handler.processor -   Currently no support in Processor for returning problematic ids\n",
      "04/16/2021 17:51:29 - WARNING - farm.data_handler.processor -   Currently no support in Processor for returning problematic ids\n",
      "04/16/2021 17:51:29 - WARNING - farm.data_handler.processor -   Currently no support in Processor for returning problematic ids\n",
      "04/16/2021 17:51:29 - WARNING - farm.data_handler.processor -   Currently no support in Processor for returning problematic ids\n",
      "04/16/2021 17:51:29 - WARNING - farm.data_handler.processor -   Currently no support in Processor for returning problematic ids\n",
      "Inferencing Samples:   0%|          | 0/4 [00:00<?, ? Batches/s]04/16/2021 17:51:29 - WARNING - farm.data_handler.processor -   Currently no support in Processor for returning problematic ids\n",
      "04/16/2021 17:51:29 - WARNING - farm.data_handler.processor -   Currently no support in Processor for returning problematic ids\n",
      "04/16/2021 17:51:29 - WARNING - farm.data_handler.processor -   Currently no support in Processor for returning problematic ids\n",
      "04/16/2021 17:51:29 - WARNING - farm.data_handler.processor -   Currently no support in Processor for returning problematic ids\n",
      "04/16/2021 17:51:29 - WARNING - farm.data_handler.processor -   Currently no support in Processor for returning problematic ids\n",
      "04/16/2021 17:51:29 - WARNING - farm.data_handler.processor -   Currently no support in Processor for returning problematic ids\n",
      "04/16/2021 17:51:29 - WARNING - farm.data_handler.processor -   Currently no support in Processor for returning problematic ids\n",
      "04/16/2021 17:51:29 - WARNING - farm.data_handler.processor -   Currently no support in Processor for returning problematic ids\n",
      "04/16/2021 17:51:29 - WARNING - farm.data_handler.processor -   Currently no support in Processor for returning problematic ids\n",
      "04/16/2021 17:51:29 - WARNING - farm.data_handler.processor -   Currently no support in Processor for returning problematic ids\n",
      "04/16/2021 17:51:29 - WARNING - farm.data_handler.processor -   Currently no support in Processor for returning problematic ids\n"
     ]
    },
    {
     "name": "stderr",
     "output_type": "stream",
     "text": [
      "04/16/2021 17:51:29 - WARNING - farm.data_handler.processor -   Currently no support in Processor for returning problematic ids\n",
      "04/16/2021 17:51:29 - WARNING - farm.data_handler.processor -   Currently no support in Processor for returning problematic ids\n",
      "04/16/2021 17:51:29 - WARNING - farm.data_handler.processor -   Currently no support in Processor for returning problematic ids\n",
      "04/16/2021 17:51:29 - WARNING - farm.data_handler.processor -   Currently no support in Processor for returning problematic ids\n",
      "04/16/2021 17:51:29 - WARNING - farm.data_handler.processor -   Currently no support in Processor for returning problematic ids\n",
      "04/16/2021 17:51:29 - WARNING - farm.data_handler.processor -   Currently no support in Processor for returning problematic ids\n",
      "04/16/2021 17:51:30 - WARNING - farm.data_handler.processor -   Currently no support in Processor for returning problematic ids\n",
      "Inferencing Samples: 100%|██████████| 4/4 [00:00<00:00, 28.15 Batches/s]\n",
      "Inferencing Samples:   0%|          | 0/4 [00:00<?, ? Batches/s]04/16/2021 17:51:30 - WARNING - farm.data_handler.processor -   Currently no support in Processor for returning problematic ids\n",
      "04/16/2021 17:51:30 - WARNING - farm.data_handler.processor -   Currently no support in Processor for returning problematic ids\n",
      "04/16/2021 17:51:30 - WARNING - farm.data_handler.processor -   Currently no support in Processor for returning problematic ids\n",
      "04/16/2021 17:51:30 - WARNING - farm.data_handler.processor -   Currently no support in Processor for returning problematic ids\n",
      "04/16/2021 17:51:30 - WARNING - farm.data_handler.processor -   Currently no support in Processor for returning problematic ids\n",
      "04/16/2021 17:51:30 - WARNING - farm.data_handler.processor -   Currently no support in Processor for returning problematic ids\n",
      "04/16/2021 17:51:30 - WARNING - farm.data_handler.processor -   Currently no support in Processor for returning problematic ids\n",
      "04/16/2021 17:51:30 - WARNING - farm.data_handler.processor -   Currently no support in Processor for returning problematic ids\n",
      "04/16/2021 17:51:30 - WARNING - farm.data_handler.processor -   Currently no support in Processor for returning problematic ids\n",
      "04/16/2021 17:51:30 - WARNING - farm.data_handler.processor -   Currently no support in Processor for returning problematic ids\n",
      "04/16/2021 17:51:30 - WARNING - farm.data_handler.processor -   Currently no support in Processor for returning problematic ids\n",
      "04/16/2021 17:51:30 - WARNING - farm.data_handler.processor -   Currently no support in Processor for returning problematic ids\n",
      "04/16/2021 17:51:30 - WARNING - farm.data_handler.processor -   Currently no support in Processor for returning problematic ids\n",
      "04/16/2021 17:51:30 - WARNING - farm.data_handler.processor -   Currently no support in Processor for returning problematic ids\n",
      "04/16/2021 17:51:30 - WARNING - farm.data_handler.processor -   Currently no support in Processor for returning problematic ids\n",
      "04/16/2021 17:51:30 - WARNING - farm.data_handler.processor -   Currently no support in Processor for returning problematic ids\n",
      "04/16/2021 17:51:30 - WARNING - farm.data_handler.processor -   Currently no support in Processor for returning problematic ids\n",
      "Inferencing Samples: 100%|██████████| 4/4 [00:00<00:00, 33.48 Batches/s]04/16/2021 17:51:30 - WARNING - farm.data_handler.processor -   Currently no support in Processor for returning problematic ids\n",
      "\n",
      "Inferencing Samples:   0%|          | 0/4 [00:00<?, ? Batches/s]04/16/2021 17:51:30 - WARNING - farm.data_handler.processor -   Currently no support in Processor for returning problematic ids\n",
      "04/16/2021 17:51:30 - WARNING - farm.data_handler.processor -   Currently no support in Processor for returning problematic ids\n",
      "04/16/2021 17:51:30 - WARNING - farm.data_handler.processor -   Currently no support in Processor for returning problematic ids\n",
      "04/16/2021 17:51:30 - WARNING - farm.data_handler.processor -   Currently no support in Processor for returning problematic ids\n",
      "04/16/2021 17:51:30 - WARNING - farm.data_handler.processor -   Currently no support in Processor for returning problematic ids\n",
      "04/16/2021 17:51:30 - WARNING - farm.data_handler.processor -   Currently no support in Processor for returning problematic ids\n",
      "04/16/2021 17:51:30 - WARNING - farm.data_handler.processor -   Currently no support in Processor for returning problematic ids\n",
      "04/16/2021 17:51:30 - WARNING - farm.data_handler.processor -   Currently no support in Processor for returning problematic ids\n",
      "04/16/2021 17:51:30 - WARNING - farm.data_handler.processor -   Currently no support in Processor for returning problematic ids\n",
      "04/16/2021 17:51:30 - WARNING - farm.data_handler.processor -   Currently no support in Processor for returning problematic ids\n",
      "04/16/2021 17:51:30 - WARNING - farm.data_handler.processor -   Currently no support in Processor for returning problematic ids\n",
      "04/16/2021 17:51:30 - WARNING - farm.data_handler.processor -   Currently no support in Processor for returning problematic ids\n",
      "04/16/2021 17:51:30 - WARNING - farm.data_handler.processor -   Currently no support in Processor for returning problematic ids\n",
      "04/16/2021 17:51:30 - WARNING - farm.data_handler.processor -   Currently no support in Processor for returning problematic ids\n",
      "Inferencing Samples: 100%|██████████| 4/4 [00:00<00:00, 35.21 Batches/s]\n",
      "Inferencing Samples:   0%|          | 0/4 [00:00<?, ? Batches/s]04/16/2021 17:51:30 - WARNING - farm.data_handler.processor -   Currently no support in Processor for returning problematic ids\n",
      "04/16/2021 17:51:30 - WARNING - farm.data_handler.processor -   Currently no support in Processor for returning problematic ids\n",
      "Inferencing Samples: 100%|██████████| 4/4 [00:00<00:00, 62.70 Batches/s]\n",
      "Inferencing Samples: 100%|██████████| 4/4 [00:00<00:00, 64.92 Batches/s]\n",
      "Inferencing Samples: 100%|██████████| 4/4 [00:00<00:00, 64.81 Batches/s]\n",
      "Inferencing Samples: 100%|██████████| 4/4 [00:00<00:00, 62.34 Batches/s]\n",
      "Inferencing Samples: 100%|██████████| 4/4 [00:00<00:00, 64.59 Batches/s]\n",
      "Inferencing Samples: 100%|██████████| 4/4 [00:00<00:00, 64.32 Batches/s]\n",
      "Inferencing Samples: 100%|██████████| 4/4 [00:00<00:00, 63.96 Batches/s]\n",
      "Inferencing Samples: 100%|██████████| 4/4 [00:00<00:00, 64.34 Batches/s]\n",
      "Inferencing Samples: 100%|██████████| 4/4 [00:00<00:00, 64.13 Batches/s]\n",
      "Inferencing Samples: 100%|██████████| 4/4 [00:00<00:00, 64.15 Batches/s]\n",
      "Inferencing Samples: 100%|██████████| 4/4 [00:00<00:00, 64.36 Batches/s]\n",
      "Inferencing Samples: 100%|██████████| 4/4 [00:00<00:00, 64.15 Batches/s]\n",
      "Inferencing Samples: 100%|██████████| 4/4 [00:00<00:00, 63.78 Batches/s]\n",
      "Inferencing Samples: 100%|██████████| 4/4 [00:00<00:00, 63.77 Batches/s]\n",
      "Inferencing Samples: 100%|██████████| 4/4 [00:00<00:00, 63.72 Batches/s]\n",
      "Inferencing Samples: 100%|██████████| 4/4 [00:00<00:00, 63.74 Batches/s]\n",
      "Inferencing Samples: 100%|██████████| 4/4 [00:00<00:00, 63.65 Batches/s]\n",
      "Inferencing Samples: 100%|██████████| 4/4 [00:00<00:00, 64.27 Batches/s]\n",
      "Inferencing Samples: 100%|██████████| 4/4 [00:00<00:00, 64.12 Batches/s]\n",
      "Inferencing Samples: 100%|██████████| 4/4 [00:00<00:00, 64.27 Batches/s]\n",
      "Inferencing Samples: 100%|██████████| 4/4 [00:00<00:00, 64.12 Batches/s]\n",
      "Inferencing Samples: 100%|██████████| 4/4 [00:00<00:00, 63.52 Batches/s]\n",
      "Inferencing Samples: 100%|██████████| 4/4 [00:00<00:00, 63.89 Batches/s]\n",
      "Inferencing Samples: 100%|██████████| 4/4 [00:00<00:00, 63.08 Batches/s]\n",
      "Inferencing Samples: 100%|██████████| 4/4 [00:00<00:00, 63.03 Batches/s]\n",
      "Inferencing Samples: 100%|██████████| 4/4 [00:00<00:00, 57.54 Batches/s]\n",
      "Inferencing Samples: 100%|██████████| 4/4 [00:00<00:00, 58.38 Batches/s]\n",
      "Inferencing Samples: 100%|██████████| 4/4 [00:00<00:00, 58.13 Batches/s]\n",
      "Inferencing Samples: 100%|██████████| 4/4 [00:00<00:00, 58.15 Batches/s]\n",
      "Inferencing Samples: 100%|██████████| 4/4 [00:00<00:00, 58.24 Batches/s]\n",
      "Inferencing Samples: 100%|██████████| 4/4 [00:00<00:00, 58.18 Batches/s]\n",
      "Inferencing Samples: 100%|██████████| 4/4 [00:00<00:00, 58.27 Batches/s]\n",
      "Inferencing Samples: 100%|██████████| 4/4 [00:00<00:00, 58.03 Batches/s]\n",
      "Inferencing Samples: 100%|██████████| 4/4 [00:00<00:00, 58.09 Batches/s]\n"
     ]
    },
    {
     "name": "stderr",
     "output_type": "stream",
     "text": [
      "Inferencing Samples: 100%|██████████| 4/4 [00:00<00:00, 58.01 Batches/s]\n",
      "Inferencing Samples: 100%|██████████| 4/4 [00:00<00:00, 58.87 Batches/s]\n",
      "Inferencing Samples: 100%|██████████| 4/4 [00:00<00:00, 59.81 Batches/s]\n",
      "Inferencing Samples: 100%|██████████| 4/4 [00:00<00:00, 64.19 Batches/s]\n",
      "Inferencing Samples: 100%|██████████| 4/4 [00:00<00:00, 63.45 Batches/s]\n",
      "Inferencing Samples: 100%|██████████| 4/4 [00:00<00:00, 64.16 Batches/s]\n",
      "Inferencing Samples: 100%|██████████| 4/4 [00:00<00:00, 63.74 Batches/s]\n",
      "Inferencing Samples: 100%|██████████| 4/4 [00:00<00:00, 64.05 Batches/s]\n",
      "Inferencing Samples: 100%|██████████| 4/4 [00:00<00:00, 63.94 Batches/s]\n",
      "Inferencing Samples: 100%|██████████| 4/4 [00:00<00:00, 63.89 Batches/s]\n",
      "Inferencing Samples: 100%|██████████| 4/4 [00:00<00:00, 64.03 Batches/s]\n",
      "Inferencing Samples: 100%|██████████| 4/4 [00:00<00:00, 64.05 Batches/s]\n",
      "Inferencing Samples: 100%|██████████| 4/4 [00:00<00:00, 64.24 Batches/s]\n",
      "Inferencing Samples: 100%|██████████| 4/4 [00:00<00:00, 64.06 Batches/s]\n",
      "Inferencing Samples: 100%|██████████| 4/4 [00:00<00:00, 63.90 Batches/s]\n",
      "Inferencing Samples: 100%|██████████| 4/4 [00:00<00:00, 64.28 Batches/s]\n",
      "Inferencing Samples: 100%|██████████| 4/4 [00:00<00:00, 64.32 Batches/s]\n",
      "Inferencing Samples: 100%|██████████| 4/4 [00:00<00:00, 63.94 Batches/s]\n",
      "Inferencing Samples: 100%|██████████| 4/4 [00:00<00:00, 64.00 Batches/s]\n",
      "Inferencing Samples: 100%|██████████| 4/4 [00:00<00:00, 63.90 Batches/s]\n",
      "Inferencing Samples: 100%|██████████| 4/4 [00:00<00:00, 57.11 Batches/s]\n",
      "Inferencing Samples: 100%|██████████| 4/4 [00:00<00:00, 57.55 Batches/s]\n",
      "Inferencing Samples: 100%|██████████| 4/4 [00:00<00:00, 57.53 Batches/s]\n",
      "Inferencing Samples: 100%|██████████| 4/4 [00:00<00:00, 58.06 Batches/s]\n",
      "Inferencing Samples: 100%|██████████| 4/4 [00:00<00:00, 58.10 Batches/s]\n",
      "Inferencing Samples: 100%|██████████| 4/4 [00:00<00:00, 58.18 Batches/s]\n",
      "Inferencing Samples: 100%|██████████| 4/4 [00:00<00:00, 58.06 Batches/s]\n",
      "Inferencing Samples: 100%|██████████| 4/4 [00:00<00:00, 58.11 Batches/s]\n",
      "Inferencing Samples: 100%|██████████| 2/2 [00:00<00:00, 49.86 Batches/s]\n"
     ]
    }
   ],
   "source": [
    "# 9. Load it & harvest your fruits (Inference)\n",
    "save_dir =  \"/home/graphn/repositories/you_conscious/dl_xp/trained_models/color_distil\"\n",
    "basic_texts = []\n",
    "for t in texts:\n",
    "    basic_texts.append({\"text\":t})\n",
    "print(len(basic_texts))\n",
    "model = Inferencer.load(save_dir, gpu=True, return_class_probs=False,task_type=\"text_classification\")\n",
    "result = model.inference_from_dicts(dicts=basic_texts)"
   ]
  },
  {
   "cell_type": "code",
   "execution_count": 7,
   "metadata": {},
   "outputs": [],
   "source": [
    "import numpy as np\n",
    "predictions=[]\n",
    "i = 0\n",
    "for batch in result:\n",
    "    for x in batch[\"predictions\"]:\n",
    "        if True:\n",
    "            prediction = x[\"label\"]\n",
    "            predictions.append(prediction)\n",
    "        #probabilities = x[\"probability\"]\n",
    "        #position = np.argmax(probabilities)\n",
    "        #print(id_2_labels[position],y_true[i])\n",
    "        #labels = list(id_2_labels.values())\n",
    "        #predictions.append({label:prob for label,prob in zip(probabilities,labels)})\n",
    "        i+=1"
   ]
  },
  {
   "cell_type": "code",
   "execution_count": 8,
   "metadata": {},
   "outputs": [
    {
     "data": {
      "text/plain": [
       "[\"['Rot']\", \"['Gelb']\"]"
      ]
     },
     "execution_count": 8,
     "metadata": {},
     "output_type": "execute_result"
    }
   ],
   "source": [
    "predictions[0:2]"
   ]
  },
  {
   "cell_type": "code",
   "execution_count": 9,
   "metadata": {},
   "outputs": [],
   "source": [
    "from sklearn.metrics import classification_report\n",
    "def evaluate(predictions,Y_test):\n",
    "    return classification_report(predictions, Y_test,output_dict=True)#, target_names=target_names"
   ]
  },
  {
   "cell_type": "code",
   "execution_count": 10,
   "metadata": {},
   "outputs": [
    {
     "name": "stderr",
     "output_type": "stream",
     "text": [
      "/home/graphn/.local/lib/python3.8/site-packages/sklearn/metrics/_classification.py:1245: UndefinedMetricWarning: Precision and F-score are ill-defined and being set to 0.0 in labels with no predicted samples. Use `zero_division` parameter to control this behavior.\n",
      "  _warn_prf(average, modifier, msg_start, len(result))\n",
      "/home/graphn/.local/lib/python3.8/site-packages/sklearn/metrics/_classification.py:1245: UndefinedMetricWarning: Recall and F-score are ill-defined and being set to 0.0 in labels with no true samples. Use `zero_division` parameter to control this behavior.\n",
      "  _warn_prf(average, modifier, msg_start, len(result))\n",
      "/home/graphn/.local/lib/python3.8/site-packages/sklearn/metrics/_classification.py:1245: UndefinedMetricWarning: Precision and F-score are ill-defined and being set to 0.0 in labels with no predicted samples. Use `zero_division` parameter to control this behavior.\n",
      "  _warn_prf(average, modifier, msg_start, len(result))\n",
      "/home/graphn/.local/lib/python3.8/site-packages/sklearn/metrics/_classification.py:1245: UndefinedMetricWarning: Recall and F-score are ill-defined and being set to 0.0 in labels with no true samples. Use `zero_division` parameter to control this behavior.\n",
      "  _warn_prf(average, modifier, msg_start, len(result))\n",
      "/home/graphn/.local/lib/python3.8/site-packages/sklearn/metrics/_classification.py:1245: UndefinedMetricWarning: Precision and F-score are ill-defined and being set to 0.0 in labels with no predicted samples. Use `zero_division` parameter to control this behavior.\n",
      "  _warn_prf(average, modifier, msg_start, len(result))\n",
      "/home/graphn/.local/lib/python3.8/site-packages/sklearn/metrics/_classification.py:1245: UndefinedMetricWarning: Recall and F-score are ill-defined and being set to 0.0 in labels with no true samples. Use `zero_division` parameter to control this behavior.\n",
      "  _warn_prf(average, modifier, msg_start, len(result))\n"
     ]
    }
   ],
   "source": [
    "evaluation=evaluate(predictions,y_true)"
   ]
  },
  {
   "cell_type": "code",
   "execution_count": 11,
   "metadata": {},
   "outputs": [],
   "source": [
    "precisions = []\n",
    "recalls = []\n",
    "f1s = []\n",
    "supports = []\n",
    "labels = []\n",
    "for k,v in evaluation.items():\n",
    "    if type(v) != float: #!=\"accuracy\":\n",
    "        labels.append(k)\n",
    "        precisions.append(v[\"precision\"])\n",
    "        recalls.append(v[\"recall\"])\n",
    "        f1s.append(v[\"f1-score\"])\n",
    "        supports.append(v[\"support\"])\n",
    "x = pd.DataFrame({\"labels\":labels,\"precision\":precisions,\"recall\":recalls,\"f1_score\":f1s,\"support\":supports})\n",
    "x.to_csv(\"color_v1_distil.tsv\",sep=\"\\t\")"
   ]
  },
  {
   "cell_type": "code",
   "execution_count": null,
   "metadata": {},
   "outputs": [],
   "source": []
  },
  {
   "cell_type": "code",
   "execution_count": null,
   "metadata": {},
   "outputs": [],
   "source": []
  }
 ],
 "metadata": {
  "environment": {
   "name": "common-cu110.m65",
   "type": "gcloud",
   "uri": "gcr.io/deeplearning-platform-release/base-cu110:m65"
  },
  "kernelspec": {
   "display_name": "Python 3",
   "language": "python",
   "name": "python3"
  },
  "language_info": {
   "codemirror_mode": {
    "name": "ipython",
    "version": 3
   },
   "file_extension": ".py",
   "mimetype": "text/x-python",
   "name": "python",
   "nbconvert_exporter": "python",
   "pygments_lexer": "ipython3",
   "version": "3.8.5"
  }
 },
 "nbformat": 4,
 "nbformat_minor": 5
}
