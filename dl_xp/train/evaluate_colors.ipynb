{
 "cells": [
  {
   "cell_type": "code",
   "execution_count": 1,
   "metadata": {},
   "outputs": [],
   "source": [
    "from farm.utils import initialize_device_settings\n",
    "from farm.modeling.tokenization import Tokenizer\n",
    "from farm.data_handler.processor import TextClassificationProcessor, SquadProcessor\n",
    "from farm.data_handler.data_silo import DataSilo\n",
    "from farm.eval import Evaluator\n",
    "from farm.modeling.adaptive_model import AdaptiveModel\n",
    "from pathlib import Path\n",
    "from farm.infer import Inferencer\n",
    "\n"
   ]
  },
  {
   "cell_type": "code",
   "execution_count": 2,
   "metadata": {},
   "outputs": [],
   "source": [
    "import pandas as pd\n",
    "df = pd.read_csv(\"/home/graphn/repositories/you_conscious/dl_xp/data/category/train_category.tsv\",sep=\"\\t\")\n",
    "label_list_1 = df[\"label\"].tolist()\n",
    "label_list_1 = list(set(label_list_1))\n",
    "df = pd.read_csv(\"/home/graphn/repositories/you_conscious/dl_xp/data/category/test_category.tsv\",sep=\"\\t\")\n",
    "label_list_2 = df[\"label\"].tolist()\n",
    "label_list_2 = list(set(label_list_2))\n",
    "label_list = label_list_1 + label_list_2 + [\"\"]\n",
    "label_list = list(set(label_list_1+label_list_2)) \n",
    "texts = df[\"text\"].tolist()\n",
    "y_true  = df[\"label\"].tolist()"
   ]
  },
  {
   "cell_type": "code",
   "execution_count": null,
   "metadata": {
    "scrolled": true
   },
   "outputs": [],
   "source": []
  },
  {
   "cell_type": "code",
   "execution_count": 3,
   "metadata": {},
   "outputs": [
    {
     "name": "stderr",
     "output_type": "stream",
     "text": [
      "04/13/2021 07:04:32 - INFO - farm.utils -   Using device: CPU \n",
      "04/13/2021 07:04:32 - INFO - farm.utils -   Number of GPUs: 0\n",
      "04/13/2021 07:04:32 - INFO - farm.utils -   Distributed Training: False\n",
      "04/13/2021 07:04:32 - INFO - farm.utils -   Automatic Mixed Precision: None\n"
     ]
    }
   ],
   "source": [
    "##########################\n",
    "########## Settings\n",
    "##########################\n",
    "device, n_gpu = initialize_device_settings(use_cuda=False)\n",
    "lang_model = \"/home/graphn/repositories/you_conscious/dl_xp/trained_models/category_v2\"\n",
    "do_lower_case = False\n",
    "batch_size = 20\n",
    "\n",
    "data_dir = Path(\"../data\")\n",
    "evaluation_filename = \"test_all_countries.tsv\"\n",
    "label_list = label_list\n",
    "metric = \"f1_macro\"\n"
   ]
  },
  {
   "cell_type": "code",
   "execution_count": 4,
   "metadata": {
    "jupyter": {
     "outputs_hidden": true
    }
   },
   "outputs": [
    {
     "name": "stderr",
     "output_type": "stream",
     "text": [
      "04/13/2021 07:04:32 - INFO - farm.utils -   Using device: CUDA \n",
      "04/13/2021 07:04:32 - INFO - farm.utils -   Number of GPUs: 1\n",
      "04/13/2021 07:04:32 - INFO - farm.utils -   Distributed Training: False\n",
      "04/13/2021 07:04:32 - INFO - farm.utils -   Automatic Mixed Precision: None\n",
      "04/13/2021 07:04:32 - INFO - farm.modeling.language_model -   \n",
      "04/13/2021 07:04:32 - INFO - farm.modeling.language_model -   LOADING MODEL\n",
      "04/13/2021 07:04:32 - INFO - farm.modeling.language_model -   =============\n",
      "04/13/2021 07:04:32 - INFO - farm.modeling.language_model -   Model found locally at /home/graphn/repositories/you_conscious/dl_xp/trained_models/category_v2\n"
     ]
    },
    {
     "name": "stdout",
     "output_type": "stream",
     "text": [
      "11866\n"
     ]
    },
    {
     "name": "stderr",
     "output_type": "stream",
     "text": [
      "04/13/2021 07:04:33 - INFO - farm.modeling.language_model -   Loaded /home/graphn/repositories/you_conscious/dl_xp/trained_models/category_v2\n",
      "04/13/2021 07:04:33 - INFO - farm.modeling.adaptive_model -   Found files for loading 1 prediction heads\n",
      "04/13/2021 07:04:33 - WARNING - farm.modeling.prediction_head -   `layer_dims` will be deprecated in future releases\n",
      "04/13/2021 07:04:33 - INFO - farm.modeling.prediction_head -   Prediction head initialized with size [768, 134]\n",
      "04/13/2021 07:04:33 - INFO - farm.modeling.prediction_head -   Loading prediction head from /home/graphn/repositories/you_conscious/dl_xp/trained_models/category_v2/prediction_head_0.bin\n",
      "04/13/2021 07:04:35 - INFO - farm.modeling.tokenization -   Loading tokenizer of type 'BertTokenizerFast'\n",
      "04/13/2021 07:04:35 - INFO - farm.data_handler.processor -   Initialized processor without tasks. Supply `metric` and `label_list` to the constructor for using the default task or add a custom task later via processor.add_task()\n",
      "04/13/2021 07:04:35 - WARNING - farm.utils -   ML Logging is turned off. No parameters, metrics or artifacts will be logged to MLFlow.\n",
      "04/13/2021 07:04:35 - INFO - farm.utils -   Using device: CUDA \n",
      "04/13/2021 07:04:35 - INFO - farm.utils -   Number of GPUs: 1\n",
      "04/13/2021 07:04:35 - INFO - farm.utils -   Distributed Training: False\n",
      "04/13/2021 07:04:35 - INFO - farm.utils -   Automatic Mixed Precision: None\n",
      "04/13/2021 07:04:35 - INFO - farm.infer -   Got ya 15 parallel workers to do inference ...\n",
      "04/13/2021 07:04:35 - INFO - farm.infer -    0    0    0    0    0    0    0    0    0    0    0    0    0    0    0 \n",
      "04/13/2021 07:04:35 - INFO - farm.infer -   /w\\  /w\\  /w\\  /w\\  /w\\  /w\\  /w\\  /|\\  /w\\  /w\\  /w\\  /w\\  /w\\  /w\\  /|\\\n",
      "04/13/2021 07:04:35 - INFO - farm.infer -   /'\\  / \\  /'\\  /'\\  / \\  / \\  /'\\  /'\\  /'\\  /'\\  /'\\  /'\\  / \\  /'\\  /'\\\n",
      "04/13/2021 07:04:35 - INFO - farm.infer -                               \n",
      "04/13/2021 07:04:35 - INFO - farm.data_handler.processor -   *** Show 1 random examples ***\n",
      "04/13/2021 07:04:35 - INFO - farm.data_handler.processor -   \n",
      "\n",
      "      .--.        _____                       _      \n",
      "    .'_\\/_'.     / ____|                     | |     \n",
      "    '. /\\ .'    | (___   __ _ _ __ ___  _ __ | | ___ \n",
      "      \"||\"       \\___ \\ / _` | '_ ` _ \\| '_ \\| |/ _ \\ \n",
      "       || /\\     ____) | (_| | | | | | | |_) | |  __/\n",
      "    /\\ ||//\\)   |_____/ \\__,_|_| |_| |_| .__/|_|\\___|\n",
      "   (/\\||/                             |_|           \n",
      "______\\||/___________________________________________                     \n",
      "\n",
      "ID: None\n",
      "Clear Text: \n",
      " \ttext: nan [SEP] Avocadostore [SEP] Herren [SEP] Herren Strick-pullover [SEP] Gestrickter Herren Pullover mit melierten Abschlüssen aus Bio-Baumwolle und Hanf Rundhalsauschnitt Sehr hoher Tragekomfort Frische und kräftige Farben Passform: Normal Fit Stoffgewicht: 250 g/m² Auch für empfindliche und zu Allergien neigende Haut geeignet Herstellungsland: China (kbA-konform)\n",
      "Tokenized: \n",
      " \tNone\n",
      "Features: \n",
      " \tinput_ids: [3, 14335, 26898, 4, 7994, 2654, 26038, 11223, 26897, 4, 5081, 4, 5081, 5487, 408, 26935, 244, 2701, 3755, 4, 8007, 5807, 60, 5081, 24087, 3755, 114, 6256, 807, 19113, 6226, 147, 11401, 26935, 3841, 20640, 26897, 42, 5198, 26913, 3092, 24551, 3137, 24964, 26901, 19386, 7931, 9214, 1752, 101, 2771, 19669, 26897, 42, 17776, 26897, 9697, 3440, 821, 26964, 12697, 14450, 8697, 6033, 26964, 7785, 111, 26966, 2, 831, 142, 21860, 322, 42, 81, 3367, 4844, 2055, 25655, 7698, 5766, 22681, 374, 26964, 4134, 26954, 96, 26912, 26924, 26935, 19884, 385, 26955, 4, 0, 0, 0, 0, 0, 0, 0, 0, 0, 0, 0, 0, 0, 0, 0, 0, 0, 0, 0, 0, 0, 0, 0, 0, 0, 0, 0, 0, 0, 0, 0, 0, 0, 0, 0, 0, 0, 0, 0, 0, 0, 0, 0, 0, 0, 0, 0, 0, 0, 0, 0, 0, 0, 0, 0, 0, 0, 0, 0, 0, 0, 0, 0, 0, 0, 0, 0, 0, 0, 0, 0, 0, 0, 0, 0, 0, 0, 0, 0, 0, 0, 0, 0, 0, 0, 0, 0, 0, 0, 0, 0, 0, 0, 0, 0, 0, 0, 0, 0, 0, 0, 0, 0, 0, 0, 0, 0, 0, 0, 0, 0, 0, 0, 0, 0, 0, 0, 0, 0, 0, 0, 0, 0, 0, 0, 0, 0, 0, 0, 0, 0, 0, 0, 0, 0, 0, 0, 0, 0, 0, 0, 0, 0, 0, 0, 0, 0, 0, 0, 0, 0, 0, 0, 0, 0, 0, 0, 0, 0, 0, 0, 0]\n",
      " \tpadding_mask: [1, 1, 1, 1, 1, 1, 1, 1, 1, 1, 1, 1, 1, 1, 1, 1, 1, 1, 1, 1, 1, 1, 1, 1, 1, 1, 1, 1, 1, 1, 1, 1, 1, 1, 1, 1, 1, 1, 1, 1, 1, 1, 1, 1, 1, 1, 1, 1, 1, 1, 1, 1, 1, 1, 1, 1, 1, 1, 1, 1, 1, 1, 1, 1, 1, 1, 1, 1, 1, 1, 1, 1, 1, 1, 1, 1, 1, 1, 1, 1, 1, 1, 1, 1, 1, 1, 1, 1, 1, 1, 1, 1, 1, 1, 0, 0, 0, 0, 0, 0, 0, 0, 0, 0, 0, 0, 0, 0, 0, 0, 0, 0, 0, 0, 0, 0, 0, 0, 0, 0, 0, 0, 0, 0, 0, 0, 0, 0, 0, 0, 0, 0, 0, 0, 0, 0, 0, 0, 0, 0, 0, 0, 0, 0, 0, 0, 0, 0, 0, 0, 0, 0, 0, 0, 0, 0, 0, 0, 0, 0, 0, 0, 0, 0, 0, 0, 0, 0, 0, 0, 0, 0, 0, 0, 0, 0, 0, 0, 0, 0, 0, 0, 0, 0, 0, 0, 0, 0, 0, 0, 0, 0, 0, 0, 0, 0, 0, 0, 0, 0, 0, 0, 0, 0, 0, 0, 0, 0, 0, 0, 0, 0, 0, 0, 0, 0, 0, 0, 0, 0, 0, 0, 0, 0, 0, 0, 0, 0, 0, 0, 0, 0, 0, 0, 0, 0, 0, 0, 0, 0, 0, 0, 0, 0, 0, 0, 0, 0, 0, 0, 0, 0, 0, 0, 0, 0]\n",
      " \tsegment_ids: [0, 0, 0, 0, 0, 0, 0, 0, 0, 0, 0, 0, 0, 0, 0, 0, 0, 0, 0, 0, 0, 0, 0, 0, 0, 0, 0, 0, 0, 0, 0, 0, 0, 0, 0, 0, 0, 0, 0, 0, 0, 0, 0, 0, 0, 0, 0, 0, 0, 0, 0, 0, 0, 0, 0, 0, 0, 0, 0, 0, 0, 0, 0, 0, 0, 0, 0, 0, 0, 0, 0, 0, 0, 0, 0, 0, 0, 0, 0, 0, 0, 0, 0, 0, 0, 0, 0, 0, 0, 0, 0, 0, 0, 0, 0, 0, 0, 0, 0, 0, 0, 0, 0, 0, 0, 0, 0, 0, 0, 0, 0, 0, 0, 0, 0, 0, 0, 0, 0, 0, 0, 0, 0, 0, 0, 0, 0, 0, 0, 0, 0, 0, 0, 0, 0, 0, 0, 0, 0, 0, 0, 0, 0, 0, 0, 0, 0, 0, 0, 0, 0, 0, 0, 0, 0, 0, 0, 0, 0, 0, 0, 0, 0, 0, 0, 0, 0, 0, 0, 0, 0, 0, 0, 0, 0, 0, 0, 0, 0, 0, 0, 0, 0, 0, 0, 0, 0, 0, 0, 0, 0, 0, 0, 0, 0, 0, 0, 0, 0, 0, 0, 0, 0, 0, 0, 0, 0, 0, 0, 0, 0, 0, 0, 0, 0, 0, 0, 0, 0, 0, 0, 0, 0, 0, 0, 0, 0, 0, 0, 0, 0, 0, 0, 0, 0, 0, 0, 0, 0, 0, 0, 0, 0, 0, 0, 0, 0, 0, 0, 0, 0, 0, 0, 0, 0, 0]\n",
      "_____________________________________________________\n",
      "04/13/2021 07:04:35 - WARNING - farm.data_handler.processor -   Currently no support in Processor for returning problematic ids\n",
      "04/13/2021 07:04:35 - WARNING - farm.data_handler.processor -   Currently no support in Processor for returning problematic ids\n",
      "04/13/2021 07:04:35 - WARNING - farm.data_handler.processor -   Currently no support in Processor for returning problematic ids\n",
      "04/13/2021 07:04:35 - WARNING - farm.data_handler.processor -   Currently no support in Processor for returning problematic ids\n",
      "04/13/2021 07:04:35 - WARNING - farm.data_handler.processor -   Currently no support in Processor for returning problematic ids\n",
      "04/13/2021 07:04:35 - WARNING - farm.data_handler.processor -   Currently no support in Processor for returning problematic ids\n",
      "Inferencing Samples:   0%|          | 0/40 [00:00<?, ? Batches/s]04/13/2021 07:04:35 - WARNING - farm.data_handler.processor -   Currently no support in Processor for returning problematic ids\n",
      "04/13/2021 07:04:35 - WARNING - farm.data_handler.processor -   Currently no support in Processor for returning problematic ids\n",
      "04/13/2021 07:04:35 - WARNING - farm.data_handler.processor -   Currently no support in Processor for returning problematic ids\n",
      "04/13/2021 07:04:35 - WARNING - farm.data_handler.processor -   Currently no support in Processor for returning problematic ids\n",
      "04/13/2021 07:04:35 - WARNING - farm.data_handler.processor -   Currently no support in Processor for returning problematic ids\n",
      "04/13/2021 07:04:35 - WARNING - farm.data_handler.processor -   Currently no support in Processor for returning problematic ids\n",
      "04/13/2021 07:04:35 - WARNING - farm.data_handler.processor -   Currently no support in Processor for returning problematic ids\n",
      "04/13/2021 07:04:35 - WARNING - farm.data_handler.processor -   Currently no support in Processor for returning problematic ids\n",
      "04/13/2021 07:04:35 - WARNING - farm.data_handler.processor -   Currently no support in Processor for returning problematic ids\n",
      "04/13/2021 07:04:35 - WARNING - farm.data_handler.processor -   Currently no support in Processor for returning problematic ids\n",
      "04/13/2021 07:04:36 - WARNING - farm.data_handler.processor -   Currently no support in Processor for returning problematic ids\n",
      "04/13/2021 07:04:36 - WARNING - farm.data_handler.processor -   Currently no support in Processor for returning problematic ids\n",
      "Inferencing Samples:   5%|▌         | 2/40 [00:00<00:02, 14.07 Batches/s]04/13/2021 07:04:36 - WARNING - farm.data_handler.processor -   Currently no support in Processor for returning problematic ids\n"
     ]
    },
    {
     "name": "stderr",
     "output_type": "stream",
     "text": [
      "04/13/2021 07:04:36 - WARNING - farm.data_handler.processor -   Currently no support in Processor for returning problematic ids\n",
      "04/13/2021 07:04:36 - WARNING - farm.data_handler.processor -   Currently no support in Processor for returning problematic ids\n",
      "04/13/2021 07:04:36 - WARNING - farm.data_handler.processor -   Currently no support in Processor for returning problematic ids\n",
      "04/13/2021 07:04:36 - WARNING - farm.data_handler.processor -   Currently no support in Processor for returning problematic ids\n",
      "Inferencing Samples:  12%|█▎        | 5/40 [00:00<00:02, 15.89 Batches/s]04/13/2021 07:04:36 - WARNING - farm.data_handler.processor -   Currently no support in Processor for returning problematic ids\n",
      "04/13/2021 07:04:36 - WARNING - farm.data_handler.processor -   Currently no support in Processor for returning problematic ids\n",
      "04/13/2021 07:04:36 - WARNING - farm.data_handler.processor -   Currently no support in Processor for returning problematic ids\n",
      "Inferencing Samples:  20%|██        | 8/40 [00:00<00:01, 17.66 Batches/s]04/13/2021 07:04:36 - WARNING - farm.data_handler.processor -   Currently no support in Processor for returning problematic ids\n",
      "04/13/2021 07:04:36 - WARNING - farm.data_handler.processor -   Currently no support in Processor for returning problematic ids\n",
      "04/13/2021 07:04:36 - WARNING - farm.data_handler.processor -   Currently no support in Processor for returning problematic ids\n",
      "04/13/2021 07:04:36 - WARNING - farm.data_handler.processor -   Currently no support in Processor for returning problematic ids\n",
      "04/13/2021 07:04:36 - WARNING - farm.data_handler.processor -   Currently no support in Processor for returning problematic ids\n",
      "Inferencing Samples:  28%|██▊       | 11/40 [00:00<00:01, 19.12 Batches/s]04/13/2021 07:04:36 - WARNING - farm.data_handler.processor -   Currently no support in Processor for returning problematic ids\n",
      "04/13/2021 07:04:36 - WARNING - farm.data_handler.processor -   Currently no support in Processor for returning problematic ids\n",
      "04/13/2021 07:04:36 - WARNING - farm.data_handler.processor -   Currently no support in Processor for returning problematic ids\n",
      "Inferencing Samples:  35%|███▌      | 14/40 [00:00<00:01, 19.92 Batches/s]04/13/2021 07:04:36 - WARNING - farm.data_handler.processor -   Currently no support in Processor for returning problematic ids\n",
      "04/13/2021 07:04:36 - WARNING - farm.data_handler.processor -   Currently no support in Processor for returning problematic ids\n",
      "04/13/2021 07:04:36 - WARNING - farm.data_handler.processor -   Currently no support in Processor for returning problematic ids\n",
      "04/13/2021 07:04:36 - WARNING - farm.data_handler.processor -   Currently no support in Processor for returning problematic ids\n",
      "04/13/2021 07:04:36 - WARNING - farm.data_handler.processor -   Currently no support in Processor for returning problematic ids\n",
      "Inferencing Samples:  42%|████▎     | 17/40 [00:00<00:01, 20.54 Batches/s]04/13/2021 07:04:36 - WARNING - farm.data_handler.processor -   Currently no support in Processor for returning problematic ids\n",
      "04/13/2021 07:04:36 - WARNING - farm.data_handler.processor -   Currently no support in Processor for returning problematic ids\n",
      "04/13/2021 07:04:36 - WARNING - farm.data_handler.processor -   Currently no support in Processor for returning problematic ids\n",
      "Inferencing Samples:  50%|█████     | 20/40 [00:01<00:01, 17.43 Batches/s]04/13/2021 07:04:36 - WARNING - farm.data_handler.processor -   Currently no support in Processor for returning problematic ids\n",
      "04/13/2021 07:04:36 - WARNING - farm.data_handler.processor -   Currently no support in Processor for returning problematic ids\n",
      "04/13/2021 07:04:37 - WARNING - farm.data_handler.processor -   Currently no support in Processor for returning problematic ids\n",
      "04/13/2021 07:04:37 - WARNING - farm.data_handler.processor -   Currently no support in Processor for returning problematic ids\n",
      "Inferencing Samples:  57%|█████▊    | 23/40 [00:01<00:00, 19.11 Batches/s]04/13/2021 07:04:37 - WARNING - farm.data_handler.processor -   Currently no support in Processor for returning problematic ids\n",
      "04/13/2021 07:04:37 - WARNING - farm.data_handler.processor -   Currently no support in Processor for returning problematic ids\n",
      "04/13/2021 07:04:37 - WARNING - farm.data_handler.processor -   Currently no support in Processor for returning problematic ids\n",
      "04/13/2021 07:04:37 - WARNING - farm.data_handler.processor -   Currently no support in Processor for returning problematic ids\n",
      "Inferencing Samples:  65%|██████▌   | 26/40 [00:01<00:00, 20.47 Batches/s]04/13/2021 07:04:37 - WARNING - farm.data_handler.processor -   Currently no support in Processor for returning problematic ids\n",
      "04/13/2021 07:04:37 - WARNING - farm.data_handler.processor -   Currently no support in Processor for returning problematic ids\n",
      "04/13/2021 07:04:37 - WARNING - farm.data_handler.processor -   Currently no support in Processor for returning problematic ids\n",
      "04/13/2021 07:04:37 - WARNING - farm.data_handler.processor -   Currently no support in Processor for returning problematic ids\n",
      "Inferencing Samples:  72%|███████▎  | 29/40 [00:01<00:00, 21.86 Batches/s]04/13/2021 07:04:37 - WARNING - farm.data_handler.processor -   Currently no support in Processor for returning problematic ids\n",
      "04/13/2021 07:04:37 - WARNING - farm.data_handler.processor -   Currently no support in Processor for returning problematic ids\n",
      "04/13/2021 07:04:37 - WARNING - farm.data_handler.processor -   Currently no support in Processor for returning problematic ids\n",
      "04/13/2021 07:04:37 - WARNING - farm.data_handler.processor -   Currently no support in Processor for returning problematic ids\n",
      "Inferencing Samples:  80%|████████  | 32/40 [00:01<00:00, 22.23 Batches/s]04/13/2021 07:04:37 - WARNING - farm.data_handler.processor -   Currently no support in Processor for returning problematic ids\n",
      "04/13/2021 07:04:37 - WARNING - farm.data_handler.processor -   Currently no support in Processor for returning problematic ids\n",
      "04/13/2021 07:04:37 - WARNING - farm.data_handler.processor -   Currently no support in Processor for returning problematic ids\n",
      "04/13/2021 07:04:37 - WARNING - farm.data_handler.processor -   Currently no support in Processor for returning problematic ids\n",
      "Inferencing Samples:  88%|████████▊ | 35/40 [00:01<00:00, 22.84 Batches/s]04/13/2021 07:04:37 - WARNING - farm.data_handler.processor -   Currently no support in Processor for returning problematic ids\n",
      "04/13/2021 07:04:37 - WARNING - farm.data_handler.processor -   Currently no support in Processor for returning problematic ids\n",
      "Inferencing Samples:  95%|█████████▌| 38/40 [00:01<00:00, 23.49 Batches/s]04/13/2021 07:04:37 - WARNING - farm.data_handler.processor -   Currently no support in Processor for returning problematic ids\n",
      "04/13/2021 07:04:37 - WARNING - farm.data_handler.processor -   Currently no support in Processor for returning problematic ids\n",
      "Inferencing Samples: 100%|██████████| 40/40 [00:01<00:00, 21.79 Batches/s]\n",
      "Inferencing Samples:   0%|          | 0/40 [00:00<?, ? Batches/s]04/13/2021 07:04:37 - WARNING - farm.data_handler.processor -   Currently no support in Processor for returning problematic ids\n",
      "04/13/2021 07:04:37 - WARNING - farm.data_handler.processor -   Currently no support in Processor for returning problematic ids\n",
      "04/13/2021 07:04:37 - WARNING - farm.data_handler.processor -   Currently no support in Processor for returning problematic ids\n",
      "04/13/2021 07:04:37 - WARNING - farm.data_handler.processor -   Currently no support in Processor for returning problematic ids\n",
      "Inferencing Samples:   8%|▊         | 3/40 [00:00<00:01, 25.87 Batches/s]04/13/2021 07:04:37 - WARNING - farm.data_handler.processor -   Currently no support in Processor for returning problematic ids\n",
      "04/13/2021 07:04:37 - WARNING - farm.data_handler.processor -   Currently no support in Processor for returning problematic ids\n",
      "04/13/2021 07:04:37 - WARNING - farm.data_handler.processor -   Currently no support in Processor for returning problematic ids\n",
      "04/13/2021 07:04:37 - WARNING - farm.data_handler.processor -   Currently no support in Processor for returning problematic ids\n",
      "04/13/2021 07:04:37 - WARNING - farm.data_handler.processor -   Currently no support in Processor for returning problematic ids\n"
     ]
    },
    {
     "name": "stderr",
     "output_type": "stream",
     "text": [
      "Inferencing Samples: 100%|██████████| 40/40 [00:01<00:00, 26.23 Batches/s]\n",
      "Inferencing Samples: 100%|██████████| 40/40 [00:01<00:00, 25.74 Batches/s]\n",
      "Inferencing Samples: 100%|██████████| 40/40 [00:01<00:00, 25.00 Batches/s]\n",
      "Inferencing Samples: 100%|██████████| 40/40 [00:01<00:00, 24.55 Batches/s]\n",
      "Inferencing Samples: 100%|██████████| 40/40 [00:01<00:00, 24.84 Batches/s]\n",
      "Inferencing Samples: 100%|██████████| 40/40 [00:01<00:00, 24.39 Batches/s]\n",
      "Inferencing Samples: 100%|██████████| 40/40 [00:01<00:00, 24.87 Batches/s]\n",
      "Inferencing Samples: 100%|██████████| 40/40 [00:01<00:00, 25.57 Batches/s]\n",
      "Inferencing Samples: 100%|██████████| 40/40 [00:01<00:00, 26.00 Batches/s]\n",
      "Inferencing Samples: 100%|██████████| 40/40 [00:01<00:00, 26.11 Batches/s]\n",
      "Inferencing Samples: 100%|██████████| 40/40 [00:01<00:00, 26.02 Batches/s]\n",
      "Inferencing Samples: 100%|██████████| 40/40 [00:01<00:00, 25.99 Batches/s]\n",
      "Inferencing Samples: 100%|██████████| 40/40 [00:01<00:00, 25.87 Batches/s]\n",
      "Inferencing Samples: 100%|██████████| 40/40 [00:01<00:00, 25.93 Batches/s]\n",
      "Inferencing Samples: 100%|██████████| 40/40 [00:01<00:00, 25.85 Batches/s]\n",
      "Inferencing Samples: 100%|██████████| 40/40 [00:01<00:00, 25.78 Batches/s]\n",
      "Inferencing Samples: 100%|██████████| 40/40 [00:01<00:00, 25.77 Batches/s]\n",
      "Inferencing Samples: 100%|██████████| 40/40 [00:01<00:00, 25.37 Batches/s]\n",
      "Inferencing Samples: 100%|██████████| 40/40 [00:01<00:00, 25.90 Batches/s]\n",
      "Inferencing Samples: 100%|██████████| 40/40 [00:01<00:00, 26.05 Batches/s]\n",
      "Inferencing Samples: 100%|██████████| 40/40 [00:01<00:00, 25.91 Batches/s]\n",
      "Inferencing Samples: 100%|██████████| 40/40 [00:01<00:00, 25.97 Batches/s]\n",
      "Inferencing Samples: 100%|██████████| 40/40 [00:01<00:00, 25.96 Batches/s]\n",
      "Inferencing Samples: 100%|██████████| 40/40 [00:01<00:00, 26.00 Batches/s]\n",
      "Inferencing Samples: 100%|██████████| 40/40 [00:01<00:00, 25.94 Batches/s]\n",
      "Inferencing Samples: 100%|██████████| 40/40 [00:01<00:00, 25.93 Batches/s]\n",
      "Inferencing Samples: 100%|██████████| 40/40 [00:01<00:00, 25.98 Batches/s]\n",
      "Inferencing Samples: 100%|██████████| 40/40 [00:01<00:00, 25.76 Batches/s]\n",
      "Inferencing Samples: 100%|██████████| 40/40 [00:01<00:00, 25.72 Batches/s]\n",
      "Inferencing Samples: 100%|██████████| 40/40 [00:01<00:00, 25.88 Batches/s]\n",
      "Inferencing Samples: 100%|██████████| 40/40 [00:01<00:00, 25.93 Batches/s]\n",
      "Inferencing Samples: 100%|██████████| 40/40 [00:01<00:00, 25.84 Batches/s]\n",
      "Inferencing Samples: 100%|██████████| 40/40 [00:01<00:00, 24.53 Batches/s]\n",
      "Inferencing Samples: 100%|██████████| 40/40 [00:01<00:00, 24.01 Batches/s]\n",
      "Inferencing Samples: 100%|██████████| 40/40 [00:01<00:00, 25.52 Batches/s]\n",
      "Inferencing Samples: 100%|██████████| 40/40 [00:01<00:00, 23.83 Batches/s]\n",
      "Inferencing Samples: 100%|██████████| 40/40 [00:01<00:00, 24.98 Batches/s]\n",
      "Inferencing Samples: 100%|██████████| 40/40 [00:01<00:00, 24.78 Batches/s]\n",
      "Inferencing Samples: 100%|██████████| 40/40 [00:01<00:00, 24.86 Batches/s]\n",
      "Inferencing Samples: 100%|██████████| 40/40 [00:01<00:00, 24.88 Batches/s]\n",
      "Inferencing Samples: 100%|██████████| 40/40 [00:01<00:00, 24.78 Batches/s]\n",
      "Inferencing Samples: 100%|██████████| 40/40 [00:01<00:00, 24.70 Batches/s]\n",
      "Inferencing Samples: 100%|██████████| 40/40 [00:01<00:00, 24.82 Batches/s]\n",
      "Inferencing Samples: 100%|██████████| 40/40 [00:01<00:00, 24.73 Batches/s]\n",
      "Inferencing Samples: 100%|██████████| 40/40 [00:01<00:00, 24.75 Batches/s]\n",
      "Inferencing Samples: 100%|██████████| 40/40 [00:01<00:00, 24.81 Batches/s]\n",
      "Inferencing Samples: 100%|██████████| 40/40 [00:01<00:00, 25.07 Batches/s]\n",
      "Inferencing Samples: 100%|██████████| 40/40 [00:01<00:00, 25.23 Batches/s]\n",
      "Inferencing Samples: 100%|██████████| 40/40 [00:01<00:00, 25.14 Batches/s]\n",
      "Inferencing Samples: 100%|██████████| 40/40 [00:01<00:00, 25.19 Batches/s]\n",
      "Inferencing Samples: 100%|██████████| 40/40 [00:01<00:00, 25.17 Batches/s]\n",
      "Inferencing Samples: 100%|██████████| 40/40 [00:01<00:00, 25.11 Batches/s]\n",
      "Inferencing Samples: 100%|██████████| 40/40 [00:01<00:00, 25.08 Batches/s]\n",
      "Inferencing Samples: 100%|██████████| 40/40 [00:01<00:00, 24.97 Batches/s]\n",
      "Inferencing Samples: 100%|██████████| 40/40 [00:01<00:00, 24.85 Batches/s]\n",
      "Inferencing Samples: 100%|██████████| 40/40 [00:01<00:00, 24.95 Batches/s]\n",
      "Inferencing Samples: 100%|██████████| 40/40 [00:01<00:00, 25.01 Batches/s]\n",
      "Inferencing Samples: 100%|██████████| 40/40 [00:01<00:00, 25.04 Batches/s]\n",
      "Inferencing Samples: 100%|██████████| 40/40 [00:01<00:00, 25.12 Batches/s]\n",
      "Inferencing Samples: 100%|██████████| 40/40 [00:01<00:00, 25.13 Batches/s]\n",
      "Inferencing Samples: 100%|██████████| 40/40 [00:01<00:00, 25.18 Batches/s]\n",
      "Inferencing Samples: 100%|██████████| 40/40 [00:01<00:00, 25.17 Batches/s]\n",
      "Inferencing Samples: 100%|██████████| 40/40 [00:01<00:00, 25.14 Batches/s]\n",
      "Inferencing Samples: 100%|██████████| 40/40 [00:01<00:00, 25.03 Batches/s]\n",
      "Inferencing Samples: 100%|██████████| 40/40 [00:01<00:00, 25.06 Batches/s]\n",
      "Inferencing Samples: 100%|██████████| 40/40 [00:01<00:00, 25.05 Batches/s]\n",
      "Inferencing Samples: 100%|██████████| 40/40 [00:01<00:00, 25.11 Batches/s]\n",
      "Inferencing Samples: 100%|██████████| 40/40 [00:01<00:00, 24.91 Batches/s]\n",
      "Inferencing Samples: 100%|██████████| 40/40 [00:01<00:00, 25.10 Batches/s]\n",
      "Inferencing Samples: 100%|██████████| 40/40 [00:01<00:00, 25.11 Batches/s]\n",
      "Inferencing Samples: 100%|██████████| 40/40 [00:01<00:00, 25.19 Batches/s]\n",
      "Inferencing Samples: 100%|██████████| 40/40 [00:01<00:00, 25.22 Batches/s]\n",
      "Inferencing Samples: 100%|██████████| 40/40 [00:01<00:00, 24.97 Batches/s]\n",
      "Inferencing Samples: 100%|██████████| 25/25 [00:01<00:00, 24.94 Batches/s]\n"
     ]
    }
   ],
   "source": [
    "# 9. Load it & harvest your fruits (Inference)\n",
    "save_dir =  \"/home/graphn/repositories/you_conscious/dl_xp/trained_models/category_v2\"\n",
    "basic_texts = []\n",
    "for t in texts:\n",
    "    basic_texts.append({\"text\":t})\n",
    "print(len(basic_texts))\n",
    "model = Inferencer.load(save_dir, gpu=True, return_class_probs=False,task_type=\"text_classification\")\n",
    "result = model.inference_from_dicts(dicts=basic_texts)"
   ]
  },
  {
   "cell_type": "code",
   "execution_count": 5,
   "metadata": {},
   "outputs": [],
   "source": [
    "import numpy as np\n",
    "predictions=[]\n",
    "i = 0\n",
    "for batch in result:\n",
    "    for x in batch[\"predictions\"]:\n",
    "        if True:\n",
    "            prediction = x[\"label\"]\n",
    "            predictions.append(prediction)\n",
    "        #probabilities = x[\"probability\"]\n",
    "        #position = np.argmax(probabilities)\n",
    "        #print(id_2_labels[position],y_true[i])\n",
    "        #labels = list(id_2_labels.values())\n",
    "        #predictions.append({label:prob for label,prob in zip(probabilities,labels)})\n",
    "        i+=1"
   ]
  },
  {
   "cell_type": "code",
   "execution_count": 10,
   "metadata": {},
   "outputs": [
    {
     "data": {
      "text/plain": [
       "['Accessoires > Damen > Taschen > Rucksäcke',\n",
       " 'Bekleidung > Damen > Jacken & Mäntel > Jacken']"
      ]
     },
     "execution_count": 10,
     "metadata": {},
     "output_type": "execute_result"
    }
   ],
   "source": [
    "predictions[0:2]"
   ]
  },
  {
   "cell_type": "code",
   "execution_count": 11,
   "metadata": {},
   "outputs": [],
   "source": [
    "from sklearn.metrics import classification_report\n",
    "def evaluate(predictions,Y_test):\n",
    "    return classification_report(predictions, Y_test,output_dict=True)#, target_names=target_names"
   ]
  },
  {
   "cell_type": "code",
   "execution_count": 12,
   "metadata": {},
   "outputs": [
    {
     "name": "stderr",
     "output_type": "stream",
     "text": [
      "/home/graphn/.local/lib/python3.8/site-packages/sklearn/metrics/_classification.py:1245: UndefinedMetricWarning: Precision and F-score are ill-defined and being set to 0.0 in labels with no predicted samples. Use `zero_division` parameter to control this behavior.\n",
      "  _warn_prf(average, modifier, msg_start, len(result))\n",
      "/home/graphn/.local/lib/python3.8/site-packages/sklearn/metrics/_classification.py:1245: UndefinedMetricWarning: Recall and F-score are ill-defined and being set to 0.0 in labels with no true samples. Use `zero_division` parameter to control this behavior.\n",
      "  _warn_prf(average, modifier, msg_start, len(result))\n",
      "/home/graphn/.local/lib/python3.8/site-packages/sklearn/metrics/_classification.py:1245: UndefinedMetricWarning: Precision and F-score are ill-defined and being set to 0.0 in labels with no predicted samples. Use `zero_division` parameter to control this behavior.\n",
      "  _warn_prf(average, modifier, msg_start, len(result))\n",
      "/home/graphn/.local/lib/python3.8/site-packages/sklearn/metrics/_classification.py:1245: UndefinedMetricWarning: Recall and F-score are ill-defined and being set to 0.0 in labels with no true samples. Use `zero_division` parameter to control this behavior.\n",
      "  _warn_prf(average, modifier, msg_start, len(result))\n",
      "/home/graphn/.local/lib/python3.8/site-packages/sklearn/metrics/_classification.py:1245: UndefinedMetricWarning: Precision and F-score are ill-defined and being set to 0.0 in labels with no predicted samples. Use `zero_division` parameter to control this behavior.\n",
      "  _warn_prf(average, modifier, msg_start, len(result))\n",
      "/home/graphn/.local/lib/python3.8/site-packages/sklearn/metrics/_classification.py:1245: UndefinedMetricWarning: Recall and F-score are ill-defined and being set to 0.0 in labels with no true samples. Use `zero_division` parameter to control this behavior.\n",
      "  _warn_prf(average, modifier, msg_start, len(result))\n"
     ]
    }
   ],
   "source": [
    "evaluation=evaluate(predictions,y_true)"
   ]
  },
  {
   "cell_type": "code",
   "execution_count": 13,
   "metadata": {},
   "outputs": [],
   "source": [
    "precisions = []\n",
    "recalls = []\n",
    "f1s = []\n",
    "supports = []\n",
    "labels = []\n",
    "for k,v in evaluation.items():\n",
    "    if type(v) != float: #!=\"accuracy\":\n",
    "        labels.append(k)\n",
    "        precisions.append(v[\"precision\"])\n",
    "        recalls.append(v[\"recall\"])\n",
    "        f1s.append(v[\"f1-score\"])\n",
    "        supports.append(v[\"support\"])\n",
    "x = pd.DataFrame({\"labels\":labels,\"precision\":precisions,\"recall\":recalls,\"f1_score\":f1s,\"support\":supports})\n",
    "x.to_csv(\"category_v2.tsv\",sep=\"\\t\")"
   ]
  },
  {
   "cell_type": "code",
   "execution_count": null,
   "metadata": {},
   "outputs": [],
   "source": []
  },
  {
   "cell_type": "code",
   "execution_count": null,
   "metadata": {},
   "outputs": [],
   "source": []
  }
 ],
 "metadata": {
  "environment": {
   "name": "common-cu110.m65",
   "type": "gcloud",
   "uri": "gcr.io/deeplearning-platform-release/base-cu110:m65"
  },
  "kernelspec": {
   "display_name": "Python 3",
   "language": "python",
   "name": "python3"
  },
  "language_info": {
   "codemirror_mode": {
    "name": "ipython",
    "version": 3
   },
   "file_extension": ".py",
   "mimetype": "text/x-python",
   "name": "python",
   "nbconvert_exporter": "python",
   "pygments_lexer": "ipython3",
   "version": "3.8.5"
  }
 },
 "nbformat": 4,
 "nbformat_minor": 5
}
