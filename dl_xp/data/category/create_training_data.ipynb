{
 "cells": [
  {
   "cell_type": "code",
   "execution_count": 1,
   "metadata": {},
   "outputs": [],
   "source": [
    "import pandas as pd\n",
    "from sklearn.model_selection import train_test_split"
   ]
  },
  {
   "cell_type": "code",
   "execution_count": 2,
   "metadata": {},
   "outputs": [],
   "source": [
    "df = pd.read_csv(\"/home/graphn/repositories/you_conscious/dl_xp/data/category/training_category.csv\",sep=\",\",low_memory=False)"
   ]
  },
  {
   "cell_type": "code",
   "execution_count": 3,
   "metadata": {},
   "outputs": [],
   "source": [
    "brands = df[\"brand_name\"].tolist()\n",
    "merchant_names = df[\"merchant_name\"].tolist()\n",
    "fashions =  df[\"Fashion:suitable_for\"].tolist()\n",
    "titles = df[\"Title\"].tolist()\n",
    "descriptions = df[\"description\"].tolist()"
   ]
  },
  {
   "cell_type": "code",
   "execution_count": 4,
   "metadata": {},
   "outputs": [],
   "source": [
    "labels = df[\"category_name\"].tolist()"
   ]
  },
  {
   "cell_type": "code",
   "execution_count": 5,
   "metadata": {},
   "outputs": [],
   "source": [
    "texts = []\n",
    "for b,mn,f,t,d in zip(brands,merchant_names,fashions,titles,descriptions):\n",
    "    #texts.append(str(b)+\" [SEP] \"+str(mn) + \" [SEP] \"+ str(f)+ \" [SEP] \"+str(t) + \" [SEP] \"+str(d) )\n",
    "    texts.append(str(b)+\" [SEP] \"+str(mn) + \" [SEP] \"+str(t) + \" [SEP] \"+str(d) )\n",
    "\n"
   ]
  },
  {
   "cell_type": "code",
   "execution_count": 6,
   "metadata": {
    "scrolled": true
   },
   "outputs": [
    {
     "name": "stdout",
     "output_type": "stream",
     "text": [
      "Counter({'Bekleidung > Damen > T-Shirts & Blusen > T-Shirts': 29860, 'Bekleidung > Herren > T-Shirts & Hemden > T-Shirts': 24859, 'irrelevant': 12355, 'Bekleidung > Damen > Kleider': 10144, 'Bekleidung > Damen > Pullover & Strickjacken > Pullover > Sweatshirts': 5302, 'Schuhe > Damen > Sneaker': 4419, 'Bekleidung > Damen > Röcke': 3575, 'Bekleidung > Damen > Pullover & Strickjacken > Pullover': 3355, 'Bekleidung > Damen > T-Shirts & Blusen > Blusen': 3072, 'Bekleidung > Herren > T-Shirts & Hemden > Hemden': 3065, 'Bekleidung > Herren > Pullover & Strickjacken > Pullover > Sweatshirts': 2995, 'Bekleidung > Damen > Jacken & Mäntel > Jacken': 2690, 'Bekleidung > Damen > Pullover & Strickjacken > Pullover > Kapuzenpullover': 2671, 'Bekleidung > Damen > Hosen': 2601, 'Bekleidung > Damen > T-Shirts & Blusen > T-Shirts > Langärmlig': 2356, 'Accessoires > Damen > Strümpfe & Strumpfhosen > Strümpfe': 2327, 'Bekleidung > Herren > Pullover & Strickjacken > Pullover > Kapuzenpullover': 2263, 'Bekleidung > Herren > Pullover & Strickjacken > Pullover': 2151, 'Bekleidung > Herren > Hosen > Jeans': 1810, 'Accessoires > Herren > Strümpfe': 1769, 'Bekleidung > Damen > Hosen > Jeans': 1751, 'Accessoires > Damen > Taschen > Umhängetaschen': 1681, 'Bekleidung > Herren > Jacken & Mäntel > Jacken': 1637, 'Bekleidung > Herren > T-Shirts & Hemden > T-Shirts > Langärmlig': 1522, 'Schuhe > Damen > Sandalen': 1499, 'Schuhe > Damen > Stiefel': 1472, 'Bekleidung > Damen > Hosen > Shorts': 1452, 'Bekleidung > Herren > T-Shirts & Hemden > T-Shirts > Polohemden': 1324, 'Accessoires > Damen > Hüte/Mützen > Mützen': 1318, 'Schuhe > Damen': 1274, 'Bekleidung > Herren > Hosen > Shorts': 1195, 'Accessoires > Herren > Hüte/Mützen > Mützen': 1121, 'Accessoires > Damen > Taschen > Rucksäcke': 1073, 'Schuhe > Herren > Sneaker': 1038, 'Bekleidung > Damen > Hosen > Leggings': 1002, 'Bekleidung > Damen > Jacken & Mäntel > Mäntel': 839, 'Bekleidung > Herren > Hosen > Chinos': 817, 'Bekleidung > Damen > Pullover & Strickjacken > Strickjacken': 633, 'Bekleidung > Damen > Hosen > Jumpsuits': 630, 'Accessoires > Damen > Taschen > Schultertaschen': 600, 'Accessoires > Damen > Schals/Tücher > Schals': 566, 'Schuhe > Damen > Pumps': 562, 'Accessoires > Damen > Taschen > Handtaschen': 533, 'Accessoires > Damen > Taschen': 521, 'Accessoires > Damen > Strümpfe & Strumpfhosen > Strumpfhosen': 507, 'Bekleidung > Damen > Jacken & Mäntel > Jacken > Parkas': 487, 'Bekleidung > Herren > Hosen': 423, 'Schuhe > Damen > Stiefeletten': 407, 'Bekleidung > Damen > Hosen > Jeans > Mom-Jeans': 398, 'Bekleidung > Damen > Pullover & Strickjacken': 396, 'Accessoires > Herren > Schmuck > Uhren': 391, 'Accessoires > Damen > Gürtel': 384, 'Bekleidung > Damen > T-Shirts & Blusen > T-Shirts > Poloshirts': 374, 'Accessoires > Damen > Schals/Tücher > Schals > Loops': 370, 'Bekleidung > Damen > Pullover & Strickjacken > Strickjacken > Cardigans': 365, 'Bekleidung > Damen > Hosen > Jeans > Straight Cut': 360, 'Bekleidung > Damen > Hosen > Chinos': 302, 'Bekleidung > Damen > T-Shirts & Blusen > T-Shirts > Trägershirts': 299, 'Accessoires > Damen > Taschen > Shopper': 298, 'Schuhe > Herren > Halbschuhe': 296, 'Schuhe > Damen > Ballerinas': 279, 'Bekleidung > Damen > Hosen > Coulottes': 271, 'Accessoires > Damen > Schmuck > Uhren': 268, 'Bekleidung > Herren > Anzüge > Sakkos': 266, 'Accessoires > Herren > Schals/Tücher > Schals': 264, 'Bekleidung > Damen > Kostüme > Blazer': 264, 'Accessoires > Damen > Taschen > Clutches': 263, 'Bekleidung > Damen > Hosen > Jeans > Hohe Taille': 260, 'Bekleidung > Damen > Pullover & Strickjacken > Pullover > Rollkragenpullover': 255, 'Bekleidung > Damen > Jacken & Mäntel > Jacken > Blousons': 253, 'Bekleidung > Damen > Kleider > Midikleider': 240, 'Bekleidung > Herren > Jacken & Mäntel > Jacken > Übergangsjacken': 231, 'Bekleidung > Damen > Kleider > Minikleider': 228, 'Bekleidung > Damen > Kleider > Maxikleider': 211, 'Bekleidung > Damen > Jacken & Mäntel > Jacken > Übergangsjacken': 209, 'Schuhe > Damen > Schnürschuhe': 202, 'Accessoires > Damen > Taschen > Henkeltaschen': 200, 'Bekleidung > Damen > Jacken & Mäntel > Jacken > Jeansjacken': 196, 'Bekleidung > Damen > Kleider > Blusenkleider': 190, 'Bekleidung > Herren > T-Shirts & Hemden > T-Shirts > Trägershirts': 188, 'Schuhe > Damen > Zehentrenner': 185, 'Schuhe > Damen > Slipper': 183, 'Accessoires > Herren > Taschen > Rucksäcke': 180, 'Schuhe > Herren > Sandalen': 180, 'Bekleidung > Damen > Röcke > Miniröcke': 178, 'Accessoires > Damen > Taschen > Geldbörsen': 177, 'Schuhe > Herren > Stiefel': 160, 'Bekleidung > Herren > Anzüge > Hosen': 158, 'Bekleidung > Damen > Jacken & Mäntel > Jacken > Bomberjacken': 157, 'Schuhe > Damen > Espadrilles': 157, 'Accessoires > Damen > Taschen > Crossbodies': 146, 'Accessoires > Damen > Handschuhe': 140, 'Bekleidung > Damen > Jacken & Mäntel > Jacken > Regenjacken': 139, 'Bekleidung > Herren > Jacken & Mäntel > Jacken > Parkas': 138, 'Bekleidung > Damen > Kleider > Wickelkleider': 132, 'Schuhe > Damen > Halbschuhe': 132, 'Bekleidung > Damen > Röcke > Wickelröcke': 130, 'Bekleidung > Herren > Jacken & Mäntel > Jacken > Bomberjacken': 129, 'Schuhe > Herren > Zehentrenner': 129, 'Schuhe > Damen > Stiefel > Ankle': 127, 'Schuhe > Damen > Stiefel > Gummistiefel': 125, 'Schuhe > Herren > Espadrilles': 122, 'Accessoires > Damen > Taschen > Gürteltaschen': 120, 'Bekleidung > Herren > T-Shirts & Hemden > T-Shirts > Muskelshirts': 120, 'Bekleidung > Damen > Hosen > Cordhosen': 118, 'Schuhe > Damen > Mules': 110, 'Bekleidung > Damen > Jacken & Mäntel > Jacken > Westen': 107, 'Schuhe > Damen > Stiefel > Chelsea': 107, 'Accessoires > Herren > Taschen > Gürteltaschen': 106, 'Bekleidung > Damen > Kleider > Abendkleider': 101, 'Accessoires > Damen > Sonnenbrillen': 95, 'Bekleidung > Damen > Kleider > Strickkleider': 92, 'Accessoires > Herren > Gürtel': 89, 'Bekleidung > Damen > Kleider > Neckholder-Kleider': 85, 'Bekleidung > Herren > Jacken & Mäntel > Jacken > Regenjacken': 76, 'Bekleidung > Herren > Pullover & Strickjacken > Strickjacken > Cardigans': 74, 'Bekleidung > Herren > Jacken & Mäntel > Jacken > Blousons': 71, 'Bekleidung > Damen > Röcke > Midiröcke': 67, 'Accessoires > Damen > Hüte/Mützen > Hüte': 65, 'Bekleidung > Damen > Jacken & Mäntel > Jacken > Fleecejacken': 62, 'Accessoires > Herren > Hüte/Mützen > Hüte': 60, 'Accessoires > Herren > Hosenträger & Krawatten > Krawatten': 58, 'Bekleidung > Herren > Hosen > Loungehosen': 58, 'Bekleidung > Damen > Hosen > Cargohosen': 55, 'Accessoires > Herren > Strümpfe & Strumpfhosen > Strümpfe': 52, 'Accessoires > Damen > Taschen > Turnbeutel': 51, 'Bekleidung > Herren > T-Shirts & Hemden > Hemden > Kurzärmlig': 46, 'Bekleidung > Herren > Anzüge': 45, 'Bekleidung > Herren > Jacken & Mäntel > Jacken > Fleecejacken': 43, 'Accessoires > Damen > Schals/Tücher > Tücher': 42, 'Bekleidung > Damen > T-Shirts & Blusen': 42, 'Bekleidung > Herren > Hosen > Jumpsuits': 42, 'Bekleidung > Herren > Pullover & Strickjacken > Pullover > Rollkragenpullover': 39, 'Bekleidung > Herren > Jacken & Mäntel > Jacken > Westen': 38, 'Accessoires > Herren > Taschen': 37, 'Bekleidung > Herren > Hosen > Cargohosen': 37, 'Bekleidung > Damen > Hosen > Jeans > Bootcut': 36, 'Schuhe > Herren': 36, 'Schuhe > Herren > Slipper': 34, 'Bekleidung > Damen > Jacken & Mäntel > Mäntel > Trenchcoats': 33, 'Bekleidung > Herren > Pullover & Strickjacken > Strickjacken': 33, 'Bekleidung > Damen > T-Shirts & Hemden > T-Shirts': 33, 'Bekleidung > Damen > Hosen > Latzhosen': 32, 'Bekleidung > Herren > Jacken & Mäntel > Mäntel': 32, 'Bekleidung > Herren > Trachten > Hemden': 32, 'Bekleidung > Damen > T-Shirts & Blusen > Blusen > Langärmlig': 31, 'Accessoires > Herren > Schals/Tücher > Tücher': 30, 'Accessoires > Herren > Taschen > Geldbörsen': 30, 'Bekleidung > Damen > Hosen > Lederoptik': 30, 'Bekleidung > Damen > Hosen > Jeans > Boyfriend': 28, 'Bekleidung > Herren > T-Shirts & Hemden > Hemden > Langärmlig': 28, 'Schuhe > Herren > Schnürschuhe': 28, 'Accessoires > Herren > Taschen > Beuteltaschen': 27, 'Schuhe > Herren > Stiefel > Chelsea': 27, 'Bekleidung > Damen > Hosen > Caprihosen': 24, 'Bekleidung > Damen > Hosen > Loungehosen': 24, 'Bekleidung > Herren > T-Shirts & Hemden > T-Shirts > Polohemden > Langärmlig': 24, 'Accessoires > Herren > Taschen > Tragetaschen': 20, 'Bekleidung > herren > Pullover & Strickjacken > Pullover > Kapuzenpullover': 19, 'Accessoires > Damen > Schmuck > Armbänder': 18, 'Accessoires > Damen > Taschen > Beuteltaschen': 18, 'Accessoires > Damen > Taschen > Businesstaschen': 18, 'Bekleidung > Damen > Hosen > Jeans > Loose Fit': 18, 'Bekleidung > Herren > Hosen > Cordhosen': 17, 'Accessoires > Herren > Handschuhe': 16, 'Bekleidung > Damen > Röcke > A-Linie': 16, 'Bekleidung > Herren > Jacken & Mäntel > Jacken > Jeansjacken': 16, 'Bekleidung > Damen > Hosen > Jeans > Enger Schnitt': 14, 'Bekleidung > Damen > T-Shirts & Blusen > Blusen > Kurzärmlig': 14, 'Bekleidung > Herren > Jacken & Mäntel > Mäntel > Wintermäntel': 14, 'Bekleidung > Damen > Röcke > Maxiröcke': 13, 'Accessoires > Damen > Taschen > Abendtaschen': 12, 'Accessoires > Damen > Taschen > Einkaufstaschen': 12, 'Accessoires > Damen > Taschen > Tote Bags': 12, 'Accessoires > Damen > Taschen > Tragetaschen': 12, 'Bekleidung > Herren > Jacken & Mäntel': 12, 'Schuhe > Damen > Stiefel > Biker': 12, 'Bekleidung > Damen > Hosen > Overalls': 10, 'Accessoires > Herren > Taschen > Umhängetaschen': 9, 'Accessoires > Damen > Schmuck > Ringe': 8, 'Accessoires > Herren > Sonnenbrillen': 8, 'Bekleidung > Damen > Jacken & Mäntel': 8, 'Bekleidung > Damen > Trachten > Jacken': 8, 'Schuhe > Damen > Clogs': 8, 'Schuhe > Herren > Stiefel > Gummistiefel': 8, 'Accessoires > Damen > Schmuck > Ohrringe': 7, 'Bekleidung > Damen > Kostüme > Hosen': 7, 'Accessoires > Damen > Taschen > Handytaschen': 6, 'Accessoires > Herren > Schmuck > Ringe': 6, 'Bekleidung > Damen > Hosen > Jeans > Karottenform': 6, 'Bekleidung > Damen > Kostüme': 6, 'Bekleidung > Damen > T-Shirts & Blusen > T-Shirts > Tanktops': 6, 'Bekleidung > Herren > Jacken & Mäntel > Mäntel > Regenmäntel': 6, 'Accessoires > Herren > Taschen > Weekender': 5, 'Schuhe > Herren > Stiefeletten': 5, 'Bekleidung > Herren > Pullover & Strickjacken': 5, 'Accessoires > Damen > Schmuck > Ketten': 4, 'Bekleidung > Herren > Trachten > Hemden > Kurzärmlig': 4, 'Schuhe > Herren > Clogs': 4, 'Bekleidung > Herren > T-Shirts & Blusen > T-Shirts': 3, 'Bekleidung > Damen > T-Shirts & Hemden > Hemden': 2, 'Accessoires > Damen > Schmuck': 2})\n"
     ]
    }
   ],
   "source": [
    "from collections import Counter\n",
    "print(Counter(labels))\n",
    "\n",
    "set_labels = list(set(labels))"
   ]
  },
  {
   "cell_type": "code",
   "execution_count": 7,
   "metadata": {},
   "outputs": [
    {
     "data": {
      "text/plain": [
       "['Accessoires > Damen > Gürtel',\n",
       " 'Accessoires > Damen > Handschuhe',\n",
       " 'Accessoires > Damen > Hüte/Mützen > Hüte',\n",
       " 'Accessoires > Damen > Hüte/Mützen > Mützen',\n",
       " 'Accessoires > Damen > Schals/Tücher > Schals',\n",
       " 'Accessoires > Damen > Schals/Tücher > Schals > Loops',\n",
       " 'Accessoires > Damen > Schals/Tücher > Tücher',\n",
       " 'Accessoires > Damen > Schmuck',\n",
       " 'Accessoires > Damen > Schmuck > Armbänder',\n",
       " 'Accessoires > Damen > Schmuck > Ketten',\n",
       " 'Accessoires > Damen > Schmuck > Ohrringe',\n",
       " 'Accessoires > Damen > Schmuck > Ringe',\n",
       " 'Accessoires > Damen > Schmuck > Uhren',\n",
       " 'Accessoires > Damen > Sonnenbrillen',\n",
       " 'Accessoires > Damen > Strümpfe & Strumpfhosen > Strumpfhosen',\n",
       " 'Accessoires > Damen > Strümpfe & Strumpfhosen > Strümpfe',\n",
       " 'Accessoires > Damen > Taschen',\n",
       " 'Accessoires > Damen > Taschen > Abendtaschen',\n",
       " 'Accessoires > Damen > Taschen > Beuteltaschen',\n",
       " 'Accessoires > Damen > Taschen > Businesstaschen',\n",
       " 'Accessoires > Damen > Taschen > Clutches',\n",
       " 'Accessoires > Damen > Taschen > Crossbodies',\n",
       " 'Accessoires > Damen > Taschen > Einkaufstaschen',\n",
       " 'Accessoires > Damen > Taschen > Geldbörsen',\n",
       " 'Accessoires > Damen > Taschen > Gürteltaschen',\n",
       " 'Accessoires > Damen > Taschen > Handtaschen',\n",
       " 'Accessoires > Damen > Taschen > Handytaschen',\n",
       " 'Accessoires > Damen > Taschen > Henkeltaschen',\n",
       " 'Accessoires > Damen > Taschen > Rucksäcke',\n",
       " 'Accessoires > Damen > Taschen > Schultertaschen',\n",
       " 'Accessoires > Damen > Taschen > Shopper',\n",
       " 'Accessoires > Damen > Taschen > Tote Bags',\n",
       " 'Accessoires > Damen > Taschen > Tragetaschen',\n",
       " 'Accessoires > Damen > Taschen > Turnbeutel',\n",
       " 'Accessoires > Damen > Taschen > Umhängetaschen',\n",
       " 'Accessoires > Herren > Gürtel',\n",
       " 'Accessoires > Herren > Handschuhe',\n",
       " 'Accessoires > Herren > Hosenträger & Krawatten > Krawatten',\n",
       " 'Accessoires > Herren > Hüte/Mützen > Hüte',\n",
       " 'Accessoires > Herren > Hüte/Mützen > Mützen',\n",
       " 'Accessoires > Herren > Schals/Tücher > Schals',\n",
       " 'Accessoires > Herren > Schals/Tücher > Tücher',\n",
       " 'Accessoires > Herren > Schmuck > Ringe',\n",
       " 'Accessoires > Herren > Schmuck > Uhren',\n",
       " 'Accessoires > Herren > Sonnenbrillen',\n",
       " 'Accessoires > Herren > Strümpfe',\n",
       " 'Accessoires > Herren > Strümpfe & Strumpfhosen > Strümpfe',\n",
       " 'Accessoires > Herren > Taschen',\n",
       " 'Accessoires > Herren > Taschen > Beuteltaschen',\n",
       " 'Accessoires > Herren > Taschen > Geldbörsen',\n",
       " 'Accessoires > Herren > Taschen > Gürteltaschen',\n",
       " 'Accessoires > Herren > Taschen > Rucksäcke',\n",
       " 'Accessoires > Herren > Taschen > Tragetaschen',\n",
       " 'Accessoires > Herren > Taschen > Umhängetaschen',\n",
       " 'Accessoires > Herren > Taschen > Weekender',\n",
       " 'Bekleidung > Damen > Hosen',\n",
       " 'Bekleidung > Damen > Hosen > Caprihosen',\n",
       " 'Bekleidung > Damen > Hosen > Cargohosen',\n",
       " 'Bekleidung > Damen > Hosen > Chinos',\n",
       " 'Bekleidung > Damen > Hosen > Cordhosen',\n",
       " 'Bekleidung > Damen > Hosen > Coulottes',\n",
       " 'Bekleidung > Damen > Hosen > Jeans',\n",
       " 'Bekleidung > Damen > Hosen > Jeans > Bootcut',\n",
       " 'Bekleidung > Damen > Hosen > Jeans > Boyfriend',\n",
       " 'Bekleidung > Damen > Hosen > Jeans > Enger Schnitt',\n",
       " 'Bekleidung > Damen > Hosen > Jeans > Hohe Taille',\n",
       " 'Bekleidung > Damen > Hosen > Jeans > Karottenform',\n",
       " 'Bekleidung > Damen > Hosen > Jeans > Loose Fit',\n",
       " 'Bekleidung > Damen > Hosen > Jeans > Mom-Jeans',\n",
       " 'Bekleidung > Damen > Hosen > Jeans > Straight Cut',\n",
       " 'Bekleidung > Damen > Hosen > Jumpsuits',\n",
       " 'Bekleidung > Damen > Hosen > Latzhosen',\n",
       " 'Bekleidung > Damen > Hosen > Lederoptik',\n",
       " 'Bekleidung > Damen > Hosen > Leggings',\n",
       " 'Bekleidung > Damen > Hosen > Loungehosen',\n",
       " 'Bekleidung > Damen > Hosen > Overalls',\n",
       " 'Bekleidung > Damen > Hosen > Shorts',\n",
       " 'Bekleidung > Damen > Jacken & Mäntel',\n",
       " 'Bekleidung > Damen > Jacken & Mäntel > Jacken',\n",
       " 'Bekleidung > Damen > Jacken & Mäntel > Jacken > Blousons',\n",
       " 'Bekleidung > Damen > Jacken & Mäntel > Jacken > Bomberjacken',\n",
       " 'Bekleidung > Damen > Jacken & Mäntel > Jacken > Fleecejacken',\n",
       " 'Bekleidung > Damen > Jacken & Mäntel > Jacken > Jeansjacken',\n",
       " 'Bekleidung > Damen > Jacken & Mäntel > Jacken > Parkas',\n",
       " 'Bekleidung > Damen > Jacken & Mäntel > Jacken > Regenjacken',\n",
       " 'Bekleidung > Damen > Jacken & Mäntel > Jacken > Westen',\n",
       " 'Bekleidung > Damen > Jacken & Mäntel > Jacken > Übergangsjacken',\n",
       " 'Bekleidung > Damen > Jacken & Mäntel > Mäntel',\n",
       " 'Bekleidung > Damen > Jacken & Mäntel > Mäntel > Trenchcoats',\n",
       " 'Bekleidung > Damen > Kleider',\n",
       " 'Bekleidung > Damen > Kleider > Abendkleider',\n",
       " 'Bekleidung > Damen > Kleider > Blusenkleider',\n",
       " 'Bekleidung > Damen > Kleider > Maxikleider',\n",
       " 'Bekleidung > Damen > Kleider > Midikleider',\n",
       " 'Bekleidung > Damen > Kleider > Minikleider',\n",
       " 'Bekleidung > Damen > Kleider > Neckholder-Kleider',\n",
       " 'Bekleidung > Damen > Kleider > Strickkleider',\n",
       " 'Bekleidung > Damen > Kleider > Wickelkleider',\n",
       " 'Bekleidung > Damen > Kostüme',\n",
       " 'Bekleidung > Damen > Kostüme > Blazer',\n",
       " 'Bekleidung > Damen > Kostüme > Hosen',\n",
       " 'Bekleidung > Damen > Pullover & Strickjacken',\n",
       " 'Bekleidung > Damen > Pullover & Strickjacken > Pullover',\n",
       " 'Bekleidung > Damen > Pullover & Strickjacken > Pullover > Kapuzenpullover',\n",
       " 'Bekleidung > Damen > Pullover & Strickjacken > Pullover > Rollkragenpullover',\n",
       " 'Bekleidung > Damen > Pullover & Strickjacken > Pullover > Sweatshirts',\n",
       " 'Bekleidung > Damen > Pullover & Strickjacken > Strickjacken',\n",
       " 'Bekleidung > Damen > Pullover & Strickjacken > Strickjacken > Cardigans',\n",
       " 'Bekleidung > Damen > Röcke',\n",
       " 'Bekleidung > Damen > Röcke > A-Linie',\n",
       " 'Bekleidung > Damen > Röcke > Maxiröcke',\n",
       " 'Bekleidung > Damen > Röcke > Midiröcke',\n",
       " 'Bekleidung > Damen > Röcke > Miniröcke',\n",
       " 'Bekleidung > Damen > Röcke > Wickelröcke',\n",
       " 'Bekleidung > Damen > T-Shirts & Blusen',\n",
       " 'Bekleidung > Damen > T-Shirts & Blusen > Blusen',\n",
       " 'Bekleidung > Damen > T-Shirts & Blusen > Blusen > Kurzärmlig',\n",
       " 'Bekleidung > Damen > T-Shirts & Blusen > Blusen > Langärmlig',\n",
       " 'Bekleidung > Damen > T-Shirts & Blusen > T-Shirts',\n",
       " 'Bekleidung > Damen > T-Shirts & Blusen > T-Shirts > Langärmlig',\n",
       " 'Bekleidung > Damen > T-Shirts & Blusen > T-Shirts > Poloshirts',\n",
       " 'Bekleidung > Damen > T-Shirts & Blusen > T-Shirts > Tanktops',\n",
       " 'Bekleidung > Damen > T-Shirts & Blusen > T-Shirts > Trägershirts',\n",
       " 'Bekleidung > Damen > T-Shirts & Hemden > Hemden',\n",
       " 'Bekleidung > Damen > T-Shirts & Hemden > T-Shirts',\n",
       " 'Bekleidung > Damen > Trachten > Jacken',\n",
       " 'Bekleidung > Herren > Anzüge',\n",
       " 'Bekleidung > Herren > Anzüge > Hosen',\n",
       " 'Bekleidung > Herren > Anzüge > Sakkos',\n",
       " 'Bekleidung > Herren > Hosen',\n",
       " 'Bekleidung > Herren > Hosen > Cargohosen',\n",
       " 'Bekleidung > Herren > Hosen > Chinos',\n",
       " 'Bekleidung > Herren > Hosen > Cordhosen',\n",
       " 'Bekleidung > Herren > Hosen > Jeans',\n",
       " 'Bekleidung > Herren > Hosen > Jumpsuits',\n",
       " 'Bekleidung > Herren > Hosen > Loungehosen',\n",
       " 'Bekleidung > Herren > Hosen > Shorts',\n",
       " 'Bekleidung > Herren > Jacken & Mäntel',\n",
       " 'Bekleidung > Herren > Jacken & Mäntel > Jacken',\n",
       " 'Bekleidung > Herren > Jacken & Mäntel > Jacken > Blousons',\n",
       " 'Bekleidung > Herren > Jacken & Mäntel > Jacken > Bomberjacken',\n",
       " 'Bekleidung > Herren > Jacken & Mäntel > Jacken > Fleecejacken',\n",
       " 'Bekleidung > Herren > Jacken & Mäntel > Jacken > Jeansjacken',\n",
       " 'Bekleidung > Herren > Jacken & Mäntel > Jacken > Parkas',\n",
       " 'Bekleidung > Herren > Jacken & Mäntel > Jacken > Regenjacken',\n",
       " 'Bekleidung > Herren > Jacken & Mäntel > Jacken > Westen',\n",
       " 'Bekleidung > Herren > Jacken & Mäntel > Jacken > Übergangsjacken',\n",
       " 'Bekleidung > Herren > Jacken & Mäntel > Mäntel',\n",
       " 'Bekleidung > Herren > Jacken & Mäntel > Mäntel > Regenmäntel',\n",
       " 'Bekleidung > Herren > Jacken & Mäntel > Mäntel > Wintermäntel',\n",
       " 'Bekleidung > Herren > Pullover & Strickjacken',\n",
       " 'Bekleidung > Herren > Pullover & Strickjacken > Pullover',\n",
       " 'Bekleidung > Herren > Pullover & Strickjacken > Pullover > Kapuzenpullover',\n",
       " 'Bekleidung > Herren > Pullover & Strickjacken > Pullover > Rollkragenpullover',\n",
       " 'Bekleidung > Herren > Pullover & Strickjacken > Pullover > Sweatshirts',\n",
       " 'Bekleidung > Herren > Pullover & Strickjacken > Strickjacken',\n",
       " 'Bekleidung > Herren > Pullover & Strickjacken > Strickjacken > Cardigans',\n",
       " 'Bekleidung > Herren > T-Shirts & Blusen > T-Shirts',\n",
       " 'Bekleidung > Herren > T-Shirts & Hemden > Hemden',\n",
       " 'Bekleidung > Herren > T-Shirts & Hemden > Hemden > Kurzärmlig',\n",
       " 'Bekleidung > Herren > T-Shirts & Hemden > Hemden > Langärmlig',\n",
       " 'Bekleidung > Herren > T-Shirts & Hemden > T-Shirts',\n",
       " 'Bekleidung > Herren > T-Shirts & Hemden > T-Shirts > Langärmlig',\n",
       " 'Bekleidung > Herren > T-Shirts & Hemden > T-Shirts > Muskelshirts',\n",
       " 'Bekleidung > Herren > T-Shirts & Hemden > T-Shirts > Polohemden',\n",
       " 'Bekleidung > Herren > T-Shirts & Hemden > T-Shirts > Polohemden > Langärmlig',\n",
       " 'Bekleidung > Herren > T-Shirts & Hemden > T-Shirts > Trägershirts',\n",
       " 'Bekleidung > Herren > Trachten > Hemden',\n",
       " 'Bekleidung > Herren > Trachten > Hemden > Kurzärmlig',\n",
       " 'Bekleidung > herren > Pullover & Strickjacken > Pullover > Kapuzenpullover',\n",
       " 'Schuhe > Damen',\n",
       " 'Schuhe > Damen > Ballerinas',\n",
       " 'Schuhe > Damen > Clogs',\n",
       " 'Schuhe > Damen > Espadrilles',\n",
       " 'Schuhe > Damen > Halbschuhe',\n",
       " 'Schuhe > Damen > Mules',\n",
       " 'Schuhe > Damen > Pumps',\n",
       " 'Schuhe > Damen > Sandalen',\n",
       " 'Schuhe > Damen > Schnürschuhe',\n",
       " 'Schuhe > Damen > Slipper',\n",
       " 'Schuhe > Damen > Sneaker',\n",
       " 'Schuhe > Damen > Stiefel',\n",
       " 'Schuhe > Damen > Stiefel > Ankle',\n",
       " 'Schuhe > Damen > Stiefel > Biker',\n",
       " 'Schuhe > Damen > Stiefel > Chelsea',\n",
       " 'Schuhe > Damen > Stiefel > Gummistiefel',\n",
       " 'Schuhe > Damen > Stiefeletten',\n",
       " 'Schuhe > Damen > Zehentrenner',\n",
       " 'Schuhe > Herren',\n",
       " 'Schuhe > Herren > Clogs',\n",
       " 'Schuhe > Herren > Espadrilles',\n",
       " 'Schuhe > Herren > Halbschuhe',\n",
       " 'Schuhe > Herren > Sandalen',\n",
       " 'Schuhe > Herren > Schnürschuhe',\n",
       " 'Schuhe > Herren > Slipper',\n",
       " 'Schuhe > Herren > Sneaker',\n",
       " 'Schuhe > Herren > Stiefel',\n",
       " 'Schuhe > Herren > Stiefel > Chelsea',\n",
       " 'Schuhe > Herren > Stiefel > Gummistiefel',\n",
       " 'Schuhe > Herren > Stiefeletten',\n",
       " 'Schuhe > Herren > Zehentrenner',\n",
       " 'irrelevant']"
      ]
     },
     "execution_count": 7,
     "metadata": {},
     "output_type": "execute_result"
    }
   ],
   "source": [
    "sorted(set_labels)"
   ]
  },
  {
   "cell_type": "code",
   "execution_count": 8,
   "metadata": {},
   "outputs": [],
   "source": [
    "import sklearn\n",
    "X_train, X_test, y_train, y_test = sklearn.model_selection.train_test_split(texts,labels, test_size=0.15, random_state=42, shuffle=True, stratify=labels)"
   ]
  },
  {
   "cell_type": "code",
   "execution_count": 9,
   "metadata": {},
   "outputs": [],
   "source": [
    "d_train = pd.DataFrame({\"text\":X_train,\"label\":y_train})\n",
    "d_test = pd.DataFrame({\"text\":X_test,\"label\":y_test})"
   ]
  },
  {
   "cell_type": "code",
   "execution_count": 10,
   "metadata": {},
   "outputs": [],
   "source": [
    "d_train.to_csv(\"/home/graphn/repositories/you_conscious/dl_xp/data/category/train_category.tsv\",sep=\"\\t\")\n",
    "d_test.to_csv(\"/home/graphn/repositories/you_conscious/dl_xp/data/category/test_category.tsv\",sep=\"\\t\")"
   ]
  },
  {
   "cell_type": "code",
   "execution_count": null,
   "metadata": {},
   "outputs": [],
   "source": []
  },
  {
   "cell_type": "code",
   "execution_count": null,
   "metadata": {},
   "outputs": [],
   "source": []
  },
  {
   "cell_type": "code",
   "execution_count": null,
   "metadata": {},
   "outputs": [],
   "source": []
  }
 ],
 "metadata": {
  "kernelspec": {
   "display_name": "Python 3",
   "language": "python",
   "name": "python3"
  },
  "language_info": {
   "codemirror_mode": {
    "name": "ipython",
    "version": 3
   },
   "file_extension": ".py",
   "mimetype": "text/x-python",
   "name": "python",
   "nbconvert_exporter": "python",
   "pygments_lexer": "ipython3",
   "version": "3.8.10"
  }
 },
 "nbformat": 4,
 "nbformat_minor": 4
}
