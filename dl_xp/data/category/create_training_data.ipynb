{
 "cells": [
  {
   "cell_type": "code",
   "execution_count": 1,
   "metadata": {},
   "outputs": [],
   "source": [
    "import pandas as pd\n",
    "from sklearn.model_selection import train_test_split"
   ]
  },
  {
   "cell_type": "code",
   "execution_count": 2,
   "metadata": {},
   "outputs": [],
   "source": [
    "df = pd.read_csv(\"/home/graphn/repositories/you_conscious/dl_xp/data/category/training_category.csv\",sep=\";\",low_memory=False)"
   ]
  },
  {
   "cell_type": "code",
   "execution_count": 3,
   "metadata": {},
   "outputs": [],
   "source": [
    "brands = df[\"brand_name\"].tolist()\n",
    "merchant_names = df[\"merchant_name\"].tolist()\n",
    "fashions =  df[\"Fashion:suitable_for\"].tolist()\n",
    "titles = df[\"Title\"].tolist()\n",
    "descriptions = df[\"description\"].tolist()"
   ]
  },
  {
   "cell_type": "code",
   "execution_count": 4,
   "metadata": {},
   "outputs": [],
   "source": [
    "labels = df[\"category_name\"].tolist()"
   ]
  },
  {
   "cell_type": "code",
   "execution_count": 5,
   "metadata": {},
   "outputs": [],
   "source": [
    "texts = []\n",
    "for b,mn,f,t,d in zip(brands,merchant_names,fashions,titles,descriptions):\n",
    "    texts.append(str(b)+\" [SEP] \"+str(mn) + \" [SEP] \"+ str(f)+ \" [SEP] \"+str(t) + \" [SEP] \"+str(d) )\n"
   ]
  },
  {
   "cell_type": "code",
   "execution_count": 6,
   "metadata": {
    "scrolled": true
   },
   "outputs": [
    {
     "name": "stdout",
     "output_type": "stream",
     "text": [
      "Counter({'Bekleidung > Damen > T-Shirts & Blusen > T-Shirts': 16274, 'Bekleidung > Herren > T-Shirts & Hemden > T-Shirts': 13186, 'Bekleidung > Damen > Kleider': 5156, 'irrelevant': 4966, 'Bekleidung > Damen > Pullover & Strickjacken > Pullover > Sweatshirts': 2638, 'Schuhe > Damen > Sneaker': 2202, 'Bekleidung > Damen > Röcke': 1964, 'Bekleidung > Damen > Pullover & Strickjacken > Pullover': 1666, 'Bekleidung > Damen > Hosen': 1555, 'Bekleidung > Damen > T-Shirts & Blusen > Blusen': 1539, 'Bekleidung > Herren > T-Shirts & Hemden > Hemden': 1476, 'Bekleidung > Herren > Pullover & Strickjacken > Pullover > Sweatshirts': 1467, 'Bekleidung > Damen > Jacken & Mäntel > Jacken': 1416, 'Bekleidung > Damen > Hosen > Jeans': 1342, 'Bekleidung > Damen > Pullover & Strickjacken > Pullover > Kapuzenpullover': 1249, 'Accessoires > Damen > Strümpfe & Strumpfhosen > Strümpfe': 1143, 'Bekleidung > Herren > Pullover & Strickjacken > Pullover': 1016, 'Bekleidung > Herren > Pullover & Strickjacken > Pullover > Kapuzenpullover': 964, 'Bekleidung > Herren > Jacken & Mäntel > Jacken': 935, 'Accessoires > Damen > Taschen > Umhängetaschen': 840, 'Schuhe > Damen > Stiefel': 822, 'Accessoires > Herren > Strümpfe': 803, 'Bekleidung > Herren > Hosen > Jeans': 746, 'Schuhe > Damen > Sandalen': 738, 'Bekleidung > Damen > Hosen > Shorts': 708, 'Schuhe > Damen': 667, 'Accessoires > Damen > Hüte/Mützen > Mützen': 654, 'Accessoires > Herren > Hüte/Mützen > Mützen': 571, 'Accessoires > Damen > Taschen > Rucksäcke': 534, 'Bekleidung > Herren > Hosen > Shorts': 519, 'Bekleidung > Damen > Hosen > Leggings': 501, 'Bekleidung > Damen > Pullover & Strickjacken > Strickjacken': 495, 'Accessoires > Damen > Schals/Tücher > Schals': 449, 'Bekleidung > Damen > Jacken & Mäntel > Mäntel': 421, 'Schuhe > Herren > Sneaker': 416, 'Bekleidung > Herren > Hosen > Chinos': 371, 'Bekleidung > Damen > Hosen > Jumpsuits': 313, 'Schuhe > Damen > Stiefeletten': 312, 'Bekleidung > Herren > Hosen': 302, 'Accessoires > Damen > Taschen > Schultertaschen': 300, 'Schuhe > Damen > Pumps': 280, 'Accessoires > Damen > Taschen > Handtaschen': 266, 'Accessoires > Damen > Strümpfe & Strumpfhosen > Strumpfhosen': 253, 'Bekleidung > Damen > Jacken & Mäntel > Jacken > Parkas': 243, 'Accessoires > Damen > Gürtel': 206, 'Bekleidung > Damen > Pullover & Strickjacken': 198, 'Accessoires > Damen > Taschen > Shopper': 149, 'Bekleidung > Damen > Hosen > Chinos': 145, 'Schuhe > Herren > Halbschuhe': 144, 'Schuhe > Damen > Ballerinas': 140, 'Accessoires > Herren > Schals/Tücher > Schals': 138, 'Accessoires > Damen > Schmuck > Uhren': 133, 'Accessoires > Damen > Taschen > Clutches': 133, 'Bekleidung > Damen > Kostüme & Blazer > Blazer': 131, 'Bekleidung > Damen > Pullover & Strickjacken > Pullover > Rollkragenpullover': 127, 'Bekleidung > Damen > Kleider > Midikleider': 118, 'Schuhe > Herren > Stiefel': 111, 'Bekleidung > Damen > Kleider > Minikleider': 111, 'Bekleidung > Herren > Anzüge & Sakkos > Sakkos': 110, 'Bekleidung > Damen > Jacken & Mäntel > Jacken > Blousons': 107, 'Bekleidung > Damen > Kleider > Maxikleider': 103, 'Schuhe > Damen > Schnürschuhe': 101, 'Accessoires > Damen > Taschen > Henkeltaschen': 100, 'Bekleidung > Damen > Jacken & Mäntel > Jacken > Übergangsjacken': 99, 'Bekleidung > Damen > Jacken & Mäntel > Jacken > Jeansjacken': 98, 'Bekleidung > Damen > Kleider > Blusenkleider': 95, 'Bekleidung > Herren > T-Shirts & Hemden > T-Shirts > Trägershirts': 91, 'Schuhe > Damen > Slipper': 91, 'Accessoires > Herren > Taschen > Rucksäcke': 87, 'Bekleidung > Damen > Hosen > Coulottes': 87, 'Bekleidung > Herren > Jacken & Mäntel > Jacken > Übergangsjacken': 86, 'Schuhe > Damen > Zehentrenner': 83, 'Accessoires > Damen > Taschen > Geldbörsen': 81, 'Accessoires > Herren > Schmuck > Uhren': 81, 'Schuhe > Herren > Sandalen': 78, 'Schuhe > Damen > Espadrilles': 78, 'Bekleidung > Herren > T-Shirts & Hemden > T-Shirts > Langärmlig': 77, 'Bekleidung > Damen > Jacken & Mäntel > Jacken > Regenjacken': 69, 'Bekleidung > Herren > Anzüge & Sakkos > Anzüge > Hosen': 68, 'Bekleidung > Herren > Jacken & Mäntel > Jacken > Parkas': 68, 'Accessoires > Damen > Handschuhe': 64, 'Accessoires > Damen > Taschen > Crossbodies': 63, 'Accessoires > Damen > Taschen': 62, 'Bekleidung > Herren > Pullover & Strickjacken > Strickjacken': 62, 'Bekleidung > Damen > Jacken & Mäntel': 60, 'Accessoires > Damen': 60, 'Accessoires > Damen > Taschen > Gürteltaschen': 60, 'Schuhe > Herren > Zehentrenner': 59, 'Bekleidung > Damen > Jacken & Mäntel > Jacken > Bomberjacken': 56, 'Accessoires > Herren > Taschen > Gürteltaschen': 53, 'Schuhe > Herren > Espadrilles': 52, 'Bekleidung > Damen > Kleider > Abendkleider': 50, 'Schuhe > Damen > Halbschuhe': 50, 'Bekleidung > Damen > Kleider > Strickkleider': 46, 'Accessoires > Damen > Sonnenbrillen': 45, 'Accessoires > Herren > Gürtel': 43, 'Accessoires > Herren > Hüte/Mützen > Hüte': 43, 'Bekleidung > Herren > Jacken & Mäntel > Jacken > Regenjacken': 38, 'Bekleidung > Damen > T-Shirts & Blusen > T-Shirts > Trägershirts': 36, 'Bekleidung > Herren > Jacken & Mäntel > Jacken > Bomberjacken': 36, 'Bekleidung > Damen > Kleider > Neckholder-Kleider': 36, 'Bekleidung > Herren > Jacken & Mäntel > Jacken > Blousons': 32, 'Bekleidung > Damen > Jacken & Mäntel > Jacken > Fleecejacken': 30, 'Accessoires > Herren > Taschen': 29, 'Accessoires > Damen > Hüte/Mützen > Hüte': 29, 'Accessoires > Herren > Hosenträger & Krawatten > Krawatten': 29, 'Bekleidung > Damen > T-Shirts & Blusen': 26, 'Bekleidung > Damen > Hosen > Cargohosen': 25, 'Bekleidung > Herren > Jacken & Mäntel': 25, 'Accessoires > Damen > Taschen > Turnbeutel': 25, 'Bekleidung > Herren > Jacken & Mäntel > Mäntel': 23, 'Bekleidung > Damen > T-Shirts & Blusen > T-Shirts > Langärmlig': 22, 'Schuhe > Herren > Schnürschuhe': 21, 'Accessoires > Damen > Schals/Tücher > Tücher': 20, 'Bekleidung > Herren > Trachten > Hemden': 19, 'Bekleidung > Herren > Jacken & Mäntel > Jacken > Fleecejacken': 19, 'Bekleidung > Herren > Anzüge & Sakkos > Anzüge': 19, 'Schuhe > Herren > Stiefeletten': 18, 'Accessoires > Herren > Strümpfe & Strumpfhosen > Strümpfe': 17, 'Bekleidung > Herren > Anzüge & Sakkos': 16, 'Schuhe > Herren > Slipper': 16, 'Accessoires > Herren > Schals/Tücher > Tücher': 15, 'Bekleidung > Herren > Hosen > Cargohosen': 15, 'Accessoires > Herren': 14, 'Accessoires > Herren > Taschen > Geldbörsen': 13, 'Bekleidung > Damen > Hosen > Caprihosen': 12, 'Bekleidung > Herren > Pullover & Strickjacken > Pullover > Rollkragenpullover': 11, 'Accessoires > Herren > Taschen > Tragetaschen': 10, 'Bekleidung > Damen > Röcke > Miniröcke': 9, 'Accessoires > Damen > Taschen > Beuteltaschen': 9, 'Accessoires > Damen > Schmuck > Armbänder': 9, 'Schuhe > Herren': 9, 'Bekleidung > Herren > Hosen > Jumpsuits': 9, 'Accessoires > Herren > Handschuhe': 8, 'Bekleidung > Herren > Jacken & Mäntel > Jacken > Jeansjacken': 7, 'Accessoires > Damen > Taschen > Businesstaschen': 7, 'Accessoires > Damen > Taschen > Tragetaschen': 6, 'Accessoires > Damen > Taschen > Abendtaschen': 6, 'Accessoires > Damen > Taschen > Einkaufstaschen': 6, 'Bekleidung > Damen > Hosen > Overalls': 5, 'Accessoires > Damen > Taschen > Tote Bags': 5, 'Accessoires > Herren > Sonnenbrillen': 4, 'Accessoires > Damen > Schmuck > Ringe': 4, 'Accessoires > Herren > Taschen > Umhängetaschen': 3, 'Bekleidung > Damen > Trachten > Jacken': 3, 'Bekleidung > Damen > Kostüme & Blazer > Kostüme': 3, 'Accessoires > Damen > Schmuck > Ohrringe': 3, 'Accessoires > Herren > Schmuck > Ringe': 3, 'Bekleidung > Herren > T-Shirts & Blusen > T-Shirts': 3, 'Bekleidung > Herren > Pullover & Strickjacken > Pullover ': 3, 'Bekleidung > Damen > Kostüme & Blazer': 2, 'Accessoires > Damen > Schmuck > Ketten': 2, 'Bekleidung > Damen > Kostüme & Blazer > Kostümer > Hosen': 2})\n"
     ]
    }
   ],
   "source": [
    "from collections import Counter\n",
    "print(Counter(labels))\n",
    "\n",
    "set_labels = list(set(labels))"
   ]
  },
  {
   "cell_type": "code",
   "execution_count": 7,
   "metadata": {},
   "outputs": [
    {
     "data": {
      "text/plain": [
       "['Accessoires > Damen',\n",
       " 'Accessoires > Damen > Gürtel',\n",
       " 'Accessoires > Damen > Handschuhe',\n",
       " 'Accessoires > Damen > Hüte/Mützen > Hüte',\n",
       " 'Accessoires > Damen > Hüte/Mützen > Mützen',\n",
       " 'Accessoires > Damen > Schals/Tücher > Schals',\n",
       " 'Accessoires > Damen > Schals/Tücher > Tücher',\n",
       " 'Accessoires > Damen > Schmuck > Armbänder',\n",
       " 'Accessoires > Damen > Schmuck > Ketten',\n",
       " 'Accessoires > Damen > Schmuck > Ohrringe',\n",
       " 'Accessoires > Damen > Schmuck > Ringe',\n",
       " 'Accessoires > Damen > Schmuck > Uhren',\n",
       " 'Accessoires > Damen > Sonnenbrillen',\n",
       " 'Accessoires > Damen > Strümpfe & Strumpfhosen > Strumpfhosen',\n",
       " 'Accessoires > Damen > Strümpfe & Strumpfhosen > Strümpfe',\n",
       " 'Accessoires > Damen > Taschen',\n",
       " 'Accessoires > Damen > Taschen > Abendtaschen',\n",
       " 'Accessoires > Damen > Taschen > Beuteltaschen',\n",
       " 'Accessoires > Damen > Taschen > Businesstaschen',\n",
       " 'Accessoires > Damen > Taschen > Clutches',\n",
       " 'Accessoires > Damen > Taschen > Crossbodies',\n",
       " 'Accessoires > Damen > Taschen > Einkaufstaschen',\n",
       " 'Accessoires > Damen > Taschen > Geldbörsen',\n",
       " 'Accessoires > Damen > Taschen > Gürteltaschen',\n",
       " 'Accessoires > Damen > Taschen > Handtaschen',\n",
       " 'Accessoires > Damen > Taschen > Henkeltaschen',\n",
       " 'Accessoires > Damen > Taschen > Rucksäcke',\n",
       " 'Accessoires > Damen > Taschen > Schultertaschen',\n",
       " 'Accessoires > Damen > Taschen > Shopper',\n",
       " 'Accessoires > Damen > Taschen > Tote Bags',\n",
       " 'Accessoires > Damen > Taschen > Tragetaschen',\n",
       " 'Accessoires > Damen > Taschen > Turnbeutel',\n",
       " 'Accessoires > Damen > Taschen > Umhängetaschen',\n",
       " 'Accessoires > Herren',\n",
       " 'Accessoires > Herren > Gürtel',\n",
       " 'Accessoires > Herren > Handschuhe',\n",
       " 'Accessoires > Herren > Hosenträger & Krawatten > Krawatten',\n",
       " 'Accessoires > Herren > Hüte/Mützen > Hüte',\n",
       " 'Accessoires > Herren > Hüte/Mützen > Mützen',\n",
       " 'Accessoires > Herren > Schals/Tücher > Schals',\n",
       " 'Accessoires > Herren > Schals/Tücher > Tücher',\n",
       " 'Accessoires > Herren > Schmuck > Ringe',\n",
       " 'Accessoires > Herren > Schmuck > Uhren',\n",
       " 'Accessoires > Herren > Sonnenbrillen',\n",
       " 'Accessoires > Herren > Strümpfe',\n",
       " 'Accessoires > Herren > Strümpfe & Strumpfhosen > Strümpfe',\n",
       " 'Accessoires > Herren > Taschen',\n",
       " 'Accessoires > Herren > Taschen > Geldbörsen',\n",
       " 'Accessoires > Herren > Taschen > Gürteltaschen',\n",
       " 'Accessoires > Herren > Taschen > Rucksäcke',\n",
       " 'Accessoires > Herren > Taschen > Tragetaschen',\n",
       " 'Accessoires > Herren > Taschen > Umhängetaschen',\n",
       " 'Bekleidung > Damen > Hosen',\n",
       " 'Bekleidung > Damen > Hosen > Caprihosen',\n",
       " 'Bekleidung > Damen > Hosen > Cargohosen',\n",
       " 'Bekleidung > Damen > Hosen > Chinos',\n",
       " 'Bekleidung > Damen > Hosen > Coulottes',\n",
       " 'Bekleidung > Damen > Hosen > Jeans',\n",
       " 'Bekleidung > Damen > Hosen > Jumpsuits',\n",
       " 'Bekleidung > Damen > Hosen > Leggings',\n",
       " 'Bekleidung > Damen > Hosen > Overalls',\n",
       " 'Bekleidung > Damen > Hosen > Shorts',\n",
       " 'Bekleidung > Damen > Jacken & Mäntel',\n",
       " 'Bekleidung > Damen > Jacken & Mäntel > Jacken',\n",
       " 'Bekleidung > Damen > Jacken & Mäntel > Jacken > Blousons',\n",
       " 'Bekleidung > Damen > Jacken & Mäntel > Jacken > Bomberjacken',\n",
       " 'Bekleidung > Damen > Jacken & Mäntel > Jacken > Fleecejacken',\n",
       " 'Bekleidung > Damen > Jacken & Mäntel > Jacken > Jeansjacken',\n",
       " 'Bekleidung > Damen > Jacken & Mäntel > Jacken > Parkas',\n",
       " 'Bekleidung > Damen > Jacken & Mäntel > Jacken > Regenjacken',\n",
       " 'Bekleidung > Damen > Jacken & Mäntel > Jacken > Übergangsjacken',\n",
       " 'Bekleidung > Damen > Jacken & Mäntel > Mäntel',\n",
       " 'Bekleidung > Damen > Kleider',\n",
       " 'Bekleidung > Damen > Kleider > Abendkleider',\n",
       " 'Bekleidung > Damen > Kleider > Blusenkleider',\n",
       " 'Bekleidung > Damen > Kleider > Maxikleider',\n",
       " 'Bekleidung > Damen > Kleider > Midikleider',\n",
       " 'Bekleidung > Damen > Kleider > Minikleider',\n",
       " 'Bekleidung > Damen > Kleider > Neckholder-Kleider',\n",
       " 'Bekleidung > Damen > Kleider > Strickkleider',\n",
       " 'Bekleidung > Damen > Kostüme & Blazer',\n",
       " 'Bekleidung > Damen > Kostüme & Blazer > Blazer',\n",
       " 'Bekleidung > Damen > Kostüme & Blazer > Kostüme',\n",
       " 'Bekleidung > Damen > Kostüme & Blazer > Kostümer > Hosen',\n",
       " 'Bekleidung > Damen > Pullover & Strickjacken',\n",
       " 'Bekleidung > Damen > Pullover & Strickjacken > Pullover',\n",
       " 'Bekleidung > Damen > Pullover & Strickjacken > Pullover > Kapuzenpullover',\n",
       " 'Bekleidung > Damen > Pullover & Strickjacken > Pullover > Rollkragenpullover',\n",
       " 'Bekleidung > Damen > Pullover & Strickjacken > Pullover > Sweatshirts',\n",
       " 'Bekleidung > Damen > Pullover & Strickjacken > Strickjacken',\n",
       " 'Bekleidung > Damen > Röcke',\n",
       " 'Bekleidung > Damen > Röcke > Miniröcke',\n",
       " 'Bekleidung > Damen > T-Shirts & Blusen',\n",
       " 'Bekleidung > Damen > T-Shirts & Blusen > Blusen',\n",
       " 'Bekleidung > Damen > T-Shirts & Blusen > T-Shirts',\n",
       " 'Bekleidung > Damen > T-Shirts & Blusen > T-Shirts > Langärmlig',\n",
       " 'Bekleidung > Damen > T-Shirts & Blusen > T-Shirts > Trägershirts',\n",
       " 'Bekleidung > Damen > Trachten > Jacken',\n",
       " 'Bekleidung > Herren > Anzüge & Sakkos',\n",
       " 'Bekleidung > Herren > Anzüge & Sakkos > Anzüge',\n",
       " 'Bekleidung > Herren > Anzüge & Sakkos > Anzüge > Hosen',\n",
       " 'Bekleidung > Herren > Anzüge & Sakkos > Sakkos',\n",
       " 'Bekleidung > Herren > Hosen',\n",
       " 'Bekleidung > Herren > Hosen > Cargohosen',\n",
       " 'Bekleidung > Herren > Hosen > Chinos',\n",
       " 'Bekleidung > Herren > Hosen > Jeans',\n",
       " 'Bekleidung > Herren > Hosen > Jumpsuits',\n",
       " 'Bekleidung > Herren > Hosen > Shorts',\n",
       " 'Bekleidung > Herren > Jacken & Mäntel',\n",
       " 'Bekleidung > Herren > Jacken & Mäntel > Jacken',\n",
       " 'Bekleidung > Herren > Jacken & Mäntel > Jacken > Blousons',\n",
       " 'Bekleidung > Herren > Jacken & Mäntel > Jacken > Bomberjacken',\n",
       " 'Bekleidung > Herren > Jacken & Mäntel > Jacken > Fleecejacken',\n",
       " 'Bekleidung > Herren > Jacken & Mäntel > Jacken > Jeansjacken',\n",
       " 'Bekleidung > Herren > Jacken & Mäntel > Jacken > Parkas',\n",
       " 'Bekleidung > Herren > Jacken & Mäntel > Jacken > Regenjacken',\n",
       " 'Bekleidung > Herren > Jacken & Mäntel > Jacken > Übergangsjacken',\n",
       " 'Bekleidung > Herren > Jacken & Mäntel > Mäntel',\n",
       " 'Bekleidung > Herren > Pullover & Strickjacken > Pullover',\n",
       " 'Bekleidung > Herren > Pullover & Strickjacken > Pullover ',\n",
       " 'Bekleidung > Herren > Pullover & Strickjacken > Pullover > Kapuzenpullover',\n",
       " 'Bekleidung > Herren > Pullover & Strickjacken > Pullover > Rollkragenpullover',\n",
       " 'Bekleidung > Herren > Pullover & Strickjacken > Pullover > Sweatshirts',\n",
       " 'Bekleidung > Herren > Pullover & Strickjacken > Strickjacken',\n",
       " 'Bekleidung > Herren > T-Shirts & Blusen > T-Shirts',\n",
       " 'Bekleidung > Herren > T-Shirts & Hemden > Hemden',\n",
       " 'Bekleidung > Herren > T-Shirts & Hemden > T-Shirts',\n",
       " 'Bekleidung > Herren > T-Shirts & Hemden > T-Shirts > Langärmlig',\n",
       " 'Bekleidung > Herren > T-Shirts & Hemden > T-Shirts > Trägershirts',\n",
       " 'Bekleidung > Herren > Trachten > Hemden',\n",
       " 'Schuhe > Damen',\n",
       " 'Schuhe > Damen > Ballerinas',\n",
       " 'Schuhe > Damen > Espadrilles',\n",
       " 'Schuhe > Damen > Halbschuhe',\n",
       " 'Schuhe > Damen > Pumps',\n",
       " 'Schuhe > Damen > Sandalen',\n",
       " 'Schuhe > Damen > Schnürschuhe',\n",
       " 'Schuhe > Damen > Slipper',\n",
       " 'Schuhe > Damen > Sneaker',\n",
       " 'Schuhe > Damen > Stiefel',\n",
       " 'Schuhe > Damen > Stiefeletten',\n",
       " 'Schuhe > Damen > Zehentrenner',\n",
       " 'Schuhe > Herren',\n",
       " 'Schuhe > Herren > Espadrilles',\n",
       " 'Schuhe > Herren > Halbschuhe',\n",
       " 'Schuhe > Herren > Sandalen',\n",
       " 'Schuhe > Herren > Schnürschuhe',\n",
       " 'Schuhe > Herren > Slipper',\n",
       " 'Schuhe > Herren > Sneaker',\n",
       " 'Schuhe > Herren > Stiefel',\n",
       " 'Schuhe > Herren > Stiefeletten',\n",
       " 'Schuhe > Herren > Zehentrenner',\n",
       " 'irrelevant']"
      ]
     },
     "execution_count": 7,
     "metadata": {},
     "output_type": "execute_result"
    }
   ],
   "source": [
    "sorted(set_labels)"
   ]
  },
  {
   "cell_type": "code",
   "execution_count": 8,
   "metadata": {},
   "outputs": [],
   "source": [
    "import sklearn\n",
    "X_train, X_test, y_train, y_test = sklearn.model_selection.train_test_split(texts,labels, test_size=0.15, random_state=42, shuffle=True, stratify=labels)"
   ]
  },
  {
   "cell_type": "code",
   "execution_count": 9,
   "metadata": {},
   "outputs": [],
   "source": [
    "d_train = pd.DataFrame({\"text\":X_train,\"label\":y_train})\n",
    "d_test = pd.DataFrame({\"text\":X_test,\"label\":y_test})"
   ]
  },
  {
   "cell_type": "code",
   "execution_count": 10,
   "metadata": {},
   "outputs": [],
   "source": [
    "d_train.to_csv(\"/home/graphn/repositories/you_conscious/dl_xp/data/category/train_category.tsv\",sep=\"\\t\")\n",
    "d_test.to_csv(\"/home/graphn/repositories/you_conscious/dl_xp/data/category/test_category.tsv\",sep=\"\\t\")"
   ]
  },
  {
   "cell_type": "code",
   "execution_count": null,
   "metadata": {},
   "outputs": [],
   "source": []
  }
 ],
 "metadata": {
  "kernelspec": {
   "display_name": "Python 3",
   "language": "python",
   "name": "python3"
  },
  "language_info": {
   "codemirror_mode": {
    "name": "ipython",
    "version": 3
   },
   "file_extension": ".py",
   "mimetype": "text/x-python",
   "name": "python",
   "nbconvert_exporter": "python",
   "pygments_lexer": "ipython3",
   "version": "3.8.5"
  }
 },
 "nbformat": 4,
 "nbformat_minor": 4
}
