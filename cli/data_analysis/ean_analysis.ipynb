{
 "cells": [
  {
   "cell_type": "code",
   "execution_count": 1,
   "metadata": {},
   "outputs": [],
   "source": [
    "import pandas as pd\n",
    "import csv\n",
    "import tqdm\n",
    "from collections import defaultdict"
   ]
  },
  {
   "cell_type": "code",
   "execution_count": 2,
   "metadata": {},
   "outputs": [],
   "source": [
    "def get_lines_csv(file, delimiter) -> list:\n",
    "    \"\"\"\n",
    "    Read a file and return the lines in a list\n",
    "    :param delimiter:\n",
    "    :param file:\n",
    "    :return: List of lines\n",
    "    \"\"\"\n",
    "    lines = []\n",
    "    with open(file, \"r\", encoding=\"utf-8\") as f:\n",
    "        csv_reader = csv.reader(f, delimiter=delimiter)\n",
    "        csv.field_size_limit(100100000000)\n",
    "        for j, row in tqdm.tqdm(enumerate(csv_reader), desc=\"Getting lines of \" + file):\n",
    "            lines.append(row)\n",
    "    return lines\n",
    "\n",
    "def get_headers_index(header, file, sep=\"\\t\"):\n",
    "    if header == \"category_name\":\n",
    "        return get_mapping_column_index(file, sep)[\"category_name\"]\n",
    "    if header == \"Labels\":\n",
    "        print(get_mapping_column_index(file, sep))\n",
    "        return get_mapping_column_index(file, sep)[\"Labels\"]\n",
    "    if header == \"Material\":\n",
    "        return get_mapping_column_index(file, sep)[\"Material\"]\n",
    "    if header == \"search_price\":\n",
    "        return get_mapping_column_index(file, sep)[\"search_price\"]\n",
    "    if header == \"rrp_price\":\n",
    "        return get_mapping_column_index(file, sep)[\"rrp_price\"]\n",
    "    if header == \"delivery_cost\":\n",
    "        return get_mapping_column_index(file, sep)[\"delivery_cost\"]\n",
    "    if header == \"Title\":\n",
    "        return get_mapping_column_index(file, sep)[\"Title\"]\n",
    "    if header == \"Fashion:suitable_for\":\n",
    "        return get_mapping_column_index(file, sep)[\"Fashion:suitable_for\"]\n",
    "    if header == \"merchant_name\":\n",
    "        return get_mapping_column_index(file, sep)[header]\n",
    "    if header == \"aw_deep_link\":\n",
    "        return get_mapping_column_index(file, sep)[\"aw_deep_link\"]\n",
    "    if header == \"Title\":\n",
    "        return get_mapping_column_index(file, sep)[\"Title\"]\n",
    "    if header == \"description\":\n",
    "        return get_mapping_column_index(file, sep)[\"description\"]\n",
    "    if header == \"merchant_product_id\":\n",
    "        return get_mapping_column_index(file, sep)[\"merchant_product_id\"]\n",
    "    if header == \"colour\":\n",
    "        return get_mapping_column_index(file, sep)[\"colour\"]\n",
    "    if header == \"aw_deep_link\":\n",
    "        return get_mapping_column_index(file, sep)[\"aw_deep_link\"]\n",
    "    if header == \"item_id\":\n",
    "        return get_mapping_column_index(file, sep)[\"item_id\"]\n",
    "    if header == \"category_normalized\":\n",
    "        return get_mapping_column_index(file, sep)[\"category_normalized\"]\n",
    "    if header == \"color_normalized\":\n",
    "        return get_mapping_column_index(file, sep)[\"color_normalized\"]\n",
    "    if header == \"label_0\":\n",
    "        return get_mapping_column_index(file, sep)[\"label_0\"]\n",
    "    if header == \"label_1\":\n",
    "        return get_mapping_column_index(file, sep)[\"label_1\"]\n",
    "    if header == \"label_2\":\n",
    "        return get_mapping_column_index(file, sep)[\"label_2\"]\n",
    "    if header == \"label_3\":\n",
    "        return get_mapping_column_index(file, sep)[\"label_3\"]\n",
    "    if header == \"color_normalized_0\":\n",
    "        return get_mapping_column_index(file,sep)[\"color_normalized_0\"]\n",
    "    if header == \"color_normalized_1\":\n",
    "        return get_mapping_column_index(file,sep)[\"color_normalized_1\"]\n",
    "    if header == \"color_normalized_2\":\n",
    "        return get_mapping_column_index(file,sep)[\"color_normalized_2\"]\n",
    "    if header ==\"saison\":\n",
    "        return get_mapping_column_index(file,sep)[\"saison\"]\n",
    "    if header ==\"saison_conf_score_index\":\n",
    "        return get_mapping_column_index(file,sep)[\"saison_conf_score_index\"]\n",
    "    else:\n",
    "        return get_mapping_column_index(file, sep)[header]\n",
    "def get_mapping_column_index(file, delimiter) -> dict:\n",
    "    \"\"\"\n",
    "    Create the mapping columnName: Index\n",
    "    :param delimiter:\n",
    "    :param file:\n",
    "    :return: dictionary: columnName: index\n",
    "    \"\"\"\n",
    "    mapping = {}\n",
    "    with open(file, \"r\", encoding=\"utf-8\") as f:\n",
    "        csv_reader = csv.reader(f, delimiter=delimiter)\n",
    "        for row in csv_reader:\n",
    "            mapping = {columnName: index for index, columnName in enumerate(row)}\n",
    "            break\n",
    "    return mapping"
   ]
  },
  {
   "cell_type": "code",
   "execution_count": 3,
   "metadata": {},
   "outputs": [
    {
     "name": "stderr",
     "output_type": "stream",
     "text": [
      "Getting lines of /home/graphn/repositories/you_conscious/data_processing/data_working_directory/filtered/2021-02-18_filtered_only_matching_categories_datafeed.csv: 120207it [00:04, 26227.62it/s]\n"
     ]
    }
   ],
   "source": [
    "data_path = \"/home/graphn/repositories/you_conscious/data_processing/data_working_directory/filtered/2021-02-18_filtered_only_matching_categories_datafeed.csv\"\n",
    "list_articles = get_lines_csv(data_path, \"\\t\")"
   ]
  },
  {
   "cell_type": "code",
   "execution_count": 4,
   "metadata": {},
   "outputs": [],
   "source": [
    "list_articles = list_articles[1:]"
   ]
  },
  {
   "cell_type": "code",
   "execution_count": 5,
   "metadata": {},
   "outputs": [],
   "source": [
    "ranking_merchant_ean = {\n",
    "    \"Avocadostore\":0,\n",
    "    \"i'm walking\":1,\n",
    "    \"mirapodo\":2,\n",
    "    \"OTTO\":3,\n",
    "}"
   ]
  },
  {
   "cell_type": "code",
   "execution_count": 6,
   "metadata": {},
   "outputs": [],
   "source": [
    "def replace_merchant_names_ean_order(merchant_name):\n",
    "    if merchant_name == \"Avocadostore\":\n",
    "        return \"0\"+merchant_name\n",
    "    if merchant_name == \"Im walking\":\n",
    "        return \"1\"+merchant_name\n",
    "    if merchant_name == \"mirapodo\":\n",
    "        return \"2\"+merchant_name\n",
    "    if merchant_name == \"OTTO\":\n",
    "        return \"3\"+merchant_name\n",
    "    else:\n",
    "        return merchant_name\n"
   ]
  },
  {
   "cell_type": "code",
   "execution_count": 7,
   "metadata": {},
   "outputs": [],
   "source": [
    "def ean_cleanser( list_articles: list) -> list:\n",
    "    # {ean:(list_index,merchant)}\n",
    "    # todo first case with over 2k\n",
    "    # if list only avocado store keep all\n",
    "    #diese EAN gibts bei avocadostore und mirapodo 889556801404\n",
    "    list_clean_ean_articles = []\n",
    "    list_index_articles_cleansed = []\n",
    "    list_articles_to_return = []\n",
    "    articles_index_to_return = []\n",
    "    merchant_ean_to_clean = [\"0Avocadostore\", \"1Im walking\", \"2mirapodo\", \"3OTTO\"]\n",
    "    ean_mapping = defaultdict(list)\n",
    "    ean_relevant_merchant = (ranking_merchant_ean.keys())\n",
    "    ean_index = get_headers_index(\"ean\", data_path)\n",
    "    merchant_name_index = get_headers_index(\"merchant_name\", data_path)\n",
    "    for a, article in enumerate(list_articles):\n",
    "        ean = article[ean_index]\n",
    "        ean_mapping[ean].append({\"merchant_name\": replace_merchant_names_ean_order(article[merchant_name_index]),\n",
    "                                 \"index\": a})\n",
    "        list_index_articles_cleansed.append(a)\n",
    "\n",
    "    for ean, merchants in ean_mapping.items():\n",
    "        ean_cleansed = False\n",
    "        if ean == str(889556801404):\n",
    "            print(\"xx\",merchants)\n",
    "        length_merchant_names = len(merchants)\n",
    "        list_merchant_names = [merchant[\"merchant_name\"] for merchant in merchants]\n",
    "        set_merchant_names = set(list_merchant_names)\n",
    "        if ean != \"\":\n",
    "            if len(set(list_merchant_names).intersection(merchant_ean_to_clean)) > 0:\n",
    "                # print(set_merchant_names)\n",
    "                if \"0Avocadostore\" in list_merchant_names:\n",
    "                    if len(set_merchant_names) == 1:\n",
    "                        for merchant in merchants:\n",
    "                            articles_index_to_return.append(merchant[\"index\"])\n",
    "                    else:\n",
    "                        for merchant in merchants:\n",
    "                            if merchant[\"merchant_name\"] == \"0Avocadostore\":\n",
    "                                articles_index_to_return.append(merchant[\"index\"])\n",
    "\n",
    "\n",
    "\n",
    "                else:\n",
    "                    ordered_merchants = []\n",
    "                    ord_merchants = {}\n",
    "                    ordered_merchants = [merchant[\"merchant_name\"]+\"-\"+str(merchant[\"index\"]) for merchant in merchants]\n",
    "                    merchant_to_return = ordered_merchants[0]\n",
    "                    index_to_return = merchant_to_return.split(\"-\")[-1]\n",
    "                    index_to_return = int(index_to_return)\n",
    "                    articles_index_to_return.append(index_to_return)\n",
    "\n",
    "\n",
    "\n",
    "\n",
    "        else:\n",
    "            for merchant in merchants:\n",
    "                articles_index_to_return.append(merchant[\"index\"])\n",
    "    for article_index in articles_index_to_return:\n",
    "        if type(article_index) == int:\n",
    "            list_articles_to_return.append(list_articles[article_index])\n",
    "    return list_articles_to_return"
   ]
  },
  {
   "cell_type": "code",
   "execution_count": 8,
   "metadata": {
    "scrolled": false
   },
   "outputs": [
    {
     "name": "stdout",
     "output_type": "stream",
     "text": [
      "xx [{'merchant_name': '0Avocadostore', 'index': 113012}, {'merchant_name': '0Avocadostore', 'index': 113013}]\n",
      "120206 77292\n"
     ]
    }
   ],
   "source": [
    "ec = ean_cleanser(list_articles)\n",
    "print(len(list_articles),len(ec))"
   ]
  },
  {
   "cell_type": "code",
   "execution_count": 9,
   "metadata": {},
   "outputs": [],
   "source": [
    "def write_2_file(list_articles, output_file, delimiter: str = \"\\t\"):\n",
    "    \"\"\"\n",
    "    write a list to a csv file\n",
    "    :param delimiter:\n",
    "    :param output_file:\n",
    "    :param list_articles:\n",
    "    \"\"\"\n",
    "    with open(output_file, \"w\", encoding=\"utf-8\", newline=\"\") as o:\n",
    "        csv_writer = csv.writer(o, delimiter=delimiter)\n",
    "        for element in list_articles:\n",
    "            if element is not None:\n",
    "                csv_writer.writerow(element)"
   ]
  },
  {
   "cell_type": "code",
   "execution_count": 10,
   "metadata": {},
   "outputs": [],
   "source": [
    "write_2_file(ec,\"18.csv\")"
   ]
  },
  {
   "cell_type": "code",
   "execution_count": null,
   "metadata": {},
   "outputs": [],
   "source": []
  }
 ],
 "metadata": {
  "kernelspec": {
   "display_name": "Python 3",
   "language": "python",
   "name": "python3"
  },
  "language_info": {
   "codemirror_mode": {
    "name": "ipython",
    "version": 3
   },
   "file_extension": ".py",
   "mimetype": "text/x-python",
   "name": "python",
   "nbconvert_exporter": "python",
   "pygments_lexer": "ipython3",
   "version": "3.8.5"
  }
 },
 "nbformat": 4,
 "nbformat_minor": 4
}
