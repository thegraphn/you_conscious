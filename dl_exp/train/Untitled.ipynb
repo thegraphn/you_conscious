{
 "cells": [
  {
   "cell_type": "code",
   "execution_count": 2,
   "metadata": {},
   "outputs": [
    {
     "name": "stdout",
     "output_type": "stream",
     "text": [
      "Successfully get ssids []\n"
     ]
    }
   ],
   "source": [
    "import os\n",
    "\n",
    "\n",
    "class Finder:\n",
    "    def __init__(self, *args, **kwargs):\n",
    "        self.server_name = kwargs['server_name']\n",
    "        self.password = kwargs['password']\n",
    "        self.interface_name = kwargs['interface']\n",
    "        self.main_dict = {}\n",
    "\n",
    "    def run(self):\n",
    "        command = \"\"\"sudo iwlist wlp2s0 scan | grep -ioE 'ssid:\"(.*{}.*)'\"\"\"\n",
    "        result = os.popen(command.format(self.server_name))\n",
    "        result = list(result)\n",
    "\n",
    "        if \"Device or resource busy\" in result:\n",
    "                return None\n",
    "        else:\n",
    "            ssid_list = [item.lstrip('SSID:').strip('\"\\n') for item in result]\n",
    "            print(\"Successfully get ssids {}\".format(str(ssid_list)))\n",
    "\n",
    "        for name in ssid_list:\n",
    "            try:\n",
    "                result = self.connection(name)\n",
    "            except Exception as exp:\n",
    "                print(\"Couldn't connect to name : {}. {}\".format(name, exp))\n",
    "            else:\n",
    "                if result:\n",
    "                    print(\"Successfully connected to {}\".format(name))\n",
    "\n",
    "    def connection(self, name):\n",
    "        try:\n",
    "            os.system(\"nmcli d wifi connect {} password {} iface {}\".format(name,\n",
    "       self.password,\n",
    "       self.interface_name))\n",
    "        except:\n",
    "            raise\n",
    "        else:\n",
    "            return True\n",
    "\n",
    "if __name__ == \"__main__\":\n",
    "    # Server_name is a case insensitive string, and/or regex pattern which demonstrates\n",
    "    # the name of targeted WIFI device or a unique part of it.\n",
    "    server_name = \"FrenchFritz_5G\"\n",
    "    password = \"test\"\n",
    "    interface_name = \"wlp2s0\" # i. e wlp2s0  \n",
    "    F = Finder(server_name=server_name,\n",
    "               password=password,\n",
    "               interface=interface_name)\n",
    "    F.run()\n",
    "\n"
   ]
  },
  {
   "cell_type": "code",
   "execution_count": null,
   "metadata": {},
   "outputs": [],
   "source": []
  }
 ],
 "metadata": {
  "kernelspec": {
   "display_name": "Python 3",
   "language": "python",
   "name": "python3"
  },
  "language_info": {
   "codemirror_mode": {
    "name": "ipython",
    "version": 3
   },
   "file_extension": ".py",
   "mimetype": "text/x-python",
   "name": "python",
   "nbconvert_exporter": "python",
   "pygments_lexer": "ipython3",
   "version": "3.8.2"
  }
 },
 "nbformat": 4,
 "nbformat_minor": 4
}
